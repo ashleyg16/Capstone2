{
 "cells": [
  {
   "cell_type": "markdown",
   "id": "a6bbcd2e",
   "metadata": {},
   "source": [
    "**Capstone 2: Modeling**\n",
    "\n",
    "Problem Statement: The National Transportation Safety Board (NTSB) has an Aviation Accident Database that contains information about civil aviation accidents and incidents that they investigate within the United States, its territories and international waters. For this Project, we will specifically be looking at airplane accidents for the 20 years from 2002 to 2021. The operations included are scheduled Part 121: Air Carrier, which includes most passenger airlines, as well as Part 135: Small Carrier for both commuter and ‘air taxi’ small aircraft. This dataset does not include aircraft accidents where the aircraft involved was amateur built."
   ]
  },
  {
   "cell_type": "markdown",
   "id": "60b54d20",
   "metadata": {},
   "source": [
    "**Modeling**\n",
    "\n",
    "The dataset we're working with is trying to predict which category an accident falls into based on region/location, month, FAR Part number and type of injuries/count. Since we are working with categorical data and I have the labels, I'm going to be using these Supervised Classifcation models to see which one works best:\n",
    "\n",
    "Random Forest <br> K-Nearest Neighbor <br> Support Vector Machine"
   ]
  },
  {
   "cell_type": "markdown",
   "id": "3619585f",
   "metadata": {},
   "source": [
    "**Initial Steps**"
   ]
  },
  {
   "cell_type": "code",
   "execution_count": 1,
   "id": "4417096e",
   "metadata": {},
   "outputs": [],
   "source": [
    "import pandas as pd\n",
    "import numpy as np\n",
    "import matplotlib.pyplot as plt\n",
    "import seaborn as sns"
   ]
  },
  {
   "cell_type": "code",
   "execution_count": 2,
   "id": "cb6ee17e",
   "metadata": {},
   "outputs": [],
   "source": [
    "X_train = pd.read_excel('data/X_train.xlsx')\n",
    "X_test = pd.read_excel('data/X_test.xlsx')\n",
    "y_train = pd.read_excel('data/y_train.xlsx')\n",
    "y_test = pd.read_excel('data/y_test.xlsx')"
   ]
  },
  {
   "cell_type": "markdown",
   "id": "336753c7",
   "metadata": {},
   "source": [
    "**Looking at the difference models compared to each other**\n",
    "\n",
    "Want to see in general, how these different models are going to compare to each other with this data. This will use the default parameters for each model. Will then go into each model and do train/test. Followed by hyperparameter tuning for the best one or two models."
   ]
  },
  {
   "cell_type": "code",
   "execution_count": 3,
   "id": "dc06a03e",
   "metadata": {},
   "outputs": [],
   "source": [
    "from sklearn.model_selection import KFold\n",
    "\n",
    "from sklearn.ensemble import RandomForestClassifier\n",
    "from sklearn.neighbors import KNeighborsClassifier\n",
    "from sklearn.svm import SVC\n",
    "from sklearn.model_selection import GridSearchCV\n",
    "from sklearn.model_selection import RandomizedSearchCV\n",
    "\n",
    "from sklearn.model_selection import cross_val_score\n",
    "from sklearn.metrics import confusion_matrix\n",
    "from sklearn.metrics import ConfusionMatrixDisplay\n",
    "from sklearn.metrics import classification_report"
   ]
  },
  {
   "cell_type": "code",
   "execution_count": 4,
   "id": "8a6ecb0c",
   "metadata": {},
   "outputs": [
    {
     "data": {
      "image/png": "[encoded data removed]",
      "text/plain": [
       "<Figure size 432x288 with 1 Axes>"
      ]
     },
     "metadata": {
      "needs_background": "light"
     },
     "output_type": "display_data"
    }
   ],
   "source": [
    "models = {'Random Forest': RandomForestClassifier(), 'KNN': KNeighborsClassifier(), 'SVM': SVC()}\n",
    "results = []\n",
    "for model in models.values():\n",
    "    kf = KFold(n_splits = 6, random_state = 42, shuffle = True)\n",
    "    cv_results = cross_val_score(model, X_train, y_train.values.ravel(), cv=kf)\n",
    "    results.append(cv_results)\n",
    "    \n",
    "plt.boxplot(results, labels = models.keys())\n",
    "plt.show()"
   ]
  },
  {
   "cell_type": "markdown",
   "id": "b11f6558",
   "metadata": {},
   "source": [
    "None of the models are looking very good based on accuracy, but it looks like RandomForest will end up being the best model. We will need to fine tune these options to see if they improve at all. "
   ]
  },
  {
   "cell_type": "markdown",
   "id": "6709505e",
   "metadata": {},
   "source": [
    "**Class Weights**"
   ]
  },
  {
   "cell_type": "markdown",
   "id": "afb788ca",
   "metadata": {},
   "source": [
    "We definitely have imbalanced classes, so going to play with class weights in each model that is run."
   ]
  },
  {
   "cell_type": "code",
   "execution_count": 5,
   "id": "95b3f716",
   "metadata": {},
   "outputs": [],
   "source": [
    "#class_weights = {'Aircraft ': 2, 'Environmental issues ': 2, 'Personnel issues ':1, 'Other': 5}"
   ]
  },
  {
   "cell_type": "markdown",
   "id": "d9576946",
   "metadata": {},
   "source": [
    "**Random Forest**"
   ]
  },
  {
   "cell_type": "code",
   "execution_count": 6,
   "id": "4d879d99",
   "metadata": {},
   "outputs": [
    {
     "name": "stdout",
     "output_type": "stream",
     "text": [
      "{'n_estimators': 21, 'min_samples_split': 4, 'min_samples_leaf': 9, 'max_depth': 11, 'criterion': 'gini', 'class_weight': {'Aircraft ': 1, 'Environmental issues ': 1, 'Personnel issues ': 1, 'Other': 1}}\n"
     ]
    }
   ],
   "source": [
    "#using random searh first to see what parameters should be around\n",
    "rf_params = {'criterion': ['gini', 'entropy'], \n",
    "                 'class_weight': [{'Aircraft ': 1, 'Environmental issues ': 1, 'Personnel issues ':1, 'Other': 1},\n",
    "                    {'Aircraft ': 1, 'Environmental issues ': 1, 'Personnel issues ':1, 'Other': 5},\n",
    "                    {'Aircraft ': 1, 'Environmental issues ': 1, 'Personnel issues ':1, 'Other': 10},\n",
    "                    {'Aircraft ': 2, 'Environmental issues ': 2, 'Personnel issues ':1, 'Other': 5},\n",
    "                    {'Aircraft ': 2, 'Environmental issues ': 2, 'Personnel issues ':1, 'Other': 10}, \n",
    "                    'balanced'],\n",
    "                 'n_estimators': np.arange(1, 100, step = 5),\n",
    "                 'max_depth': np.arange(1, 50, step = 5),\n",
    "                 'min_samples_split': np.arange(2, 20, step = 2),\n",
    "                 'min_samples_leaf': np.arange(1, 20, step = 2)}\n",
    "                 \n",
    "rf_random = RandomizedSearchCV(RandomForestClassifier(max_features = 'sqrt', random_state = 42), rf_params, n_iter = 500, \n",
    "                               scoring = 'accuracy', n_jobs = -1, random_state = 123)\n",
    "rf_random.fit(X_train, y_train.values.ravel())\n",
    "print(rf_random.best_params_)"
   ]
  },
  {
   "cell_type": "code",
   "execution_count": 7,
   "id": "950f861e",
   "metadata": {},
   "outputs": [
    {
     "name": "stdout",
     "output_type": "stream",
     "text": [
      "Training accuracy: 0.5992217898832685     Testing accuracy: 0.5339366515837104\n"
     ]
    }
   ],
   "source": [
    "#Looking at Accuracy for our final model with parameters from the grid search\n",
    "rf = RandomForestClassifier(n_estimators = 21, min_samples_split = 4, min_samples_leaf = 9, max_depth = 11,\n",
    "                            criterion = 'gini', max_features = 'sqrt', random_state = 42,\n",
    "                            class_weight = {'Aircraft ': 1, 'Environmental issues ': 1, 'Personnel issues ': 1, 'Other': 1})\n",
    "rf.fit(X_train, y_train.values.ravel())\n",
    "y_pred_rf = rf.predict(X_test)\n",
    "\n",
    "rf_train_acc = rf.score(X_train, y_train)\n",
    "rf_test_acc = rf.score(X_test, y_test)\n",
    "\n",
    "print('Training accuracy:', rf_train_acc, '    Testing accuracy:', rf_test_acc)"
   ]
  },
  {
   "cell_type": "code",
   "execution_count": 8,
   "id": "dd659062",
   "metadata": {},
   "outputs": [
    {
     "data": {
      "text/plain": [
       "<sklearn.metrics._plot.confusion_matrix.ConfusionMatrixDisplay at 0x1adce053be0>"
      ]
     },
     "execution_count": 8,
     "metadata": {},
     "output_type": "execute_result"
    },
    {
     "data": {
      "image/png": "[encoded data removed]",
      "text/plain": [
       "<Figure size 792x792 with 2 Axes>"
      ]
     },
     "metadata": {
      "needs_background": "light"
     },
     "output_type": "display_data"
    }
   ],
   "source": [
    "rf_cf_matrix = confusion_matrix(y_test, y_pred_rf)\n",
    "cmd = ConfusionMatrixDisplay(rf_cf_matrix, display_labels = rf.classes_)\n",
    "\n",
    "fig, ax = plt.subplots(figsize = (11,11))\n",
    "cmd.plot(ax=ax)"
   ]
  },
  {
   "cell_type": "code",
   "execution_count": 9,
   "id": "495fe76d",
   "metadata": {},
   "outputs": [
    {
     "name": "stdout",
     "output_type": "stream",
     "text": [
      "                       precision    recall  f1-score   support\n",
      "\n",
      "            Aircraft        0.48      0.40      0.44        62\n",
      "Environmental issues        0.67      0.57      0.62        58\n",
      "                Other       0.00      0.00      0.00         8\n",
      "    Personnel issues        0.50      0.65      0.56        93\n",
      "\n",
      "             accuracy                           0.53       221\n",
      "            macro avg       0.41      0.40      0.40       221\n",
      "         weighted avg       0.52      0.53      0.52       221\n",
      "\n"
     ]
    }
   ],
   "source": [
    "print(classification_report(y_test, y_pred_rf, target_names = rf.classes_, zero_division = 0))"
   ]
  },
  {
   "cell_type": "code",
   "execution_count": 10,
   "id": "18a66a21",
   "metadata": {},
   "outputs": [],
   "source": [
    "#to use later to compare all the model, I'm going to save the report as a dictionary\n",
    "rf_report = classification_report(y_test, y_pred_rf, target_names = rf.classes_, zero_division = 0, output_dict = True)"
   ]
  },
  {
   "cell_type": "markdown",
   "id": "5afa0ce9",
   "metadata": {},
   "source": [
    "**K-Nearest Neighbor**"
   ]
  },
  {
   "cell_type": "code",
   "execution_count": 11,
   "id": "a09e245e",
   "metadata": {},
   "outputs": [],
   "source": [
    "#KNN is dependent on how many neighbors you tell it to use. So going to look at that first\n",
    "neighbors = np.arange(1,20)\n",
    "train_acc = {}\n",
    "test_acc = {}\n",
    "\n",
    "for n in neighbors:\n",
    "    knn = KNeighborsClassifier(n_neighbors = n, weights = 'distance')\n",
    "    knn.fit(X_train, y_train.values.ravel())\n",
    "    train_acc[n] = knn.score(X_train, y_train)\n",
    "    test_acc[n] = knn.score(X_test, y_test)"
   ]
  },
  {
   "cell_type": "code",
   "execution_count": 12,
   "id": "891ec5fe",
   "metadata": {},
   "outputs": [
    {
     "data": {
      "image/png": "[encoded data removed]",
      "text/plain": [
       "<Figure size 432x288 with 1 Axes>"
      ]
     },
     "metadata": {
      "needs_background": "light"
     },
     "output_type": "display_data"
    }
   ],
   "source": [
    "#Plotting the accuracies\n",
    "plt.title('KNN: Accuracy vs Number of Neighbors')\n",
    "plt.plot(neighbors, train_acc.values(), label = 'Training_accuracies')\n",
    "plt.plot(neighbors, test_acc.values(), label = 'Test_accuracies')\n",
    "plt.legend()\n",
    "plt.xlabel('Number of Neighbors')\n",
    "plt.ylabel('Accuracy')\n",
    "plt.show()"
   ]
  },
  {
   "cell_type": "code",
   "execution_count": 13,
   "id": "c28e729d",
   "metadata": {},
   "outputs": [
    {
     "name": "stdout",
     "output_type": "stream",
     "text": [
      "Training accuracy: 1.0     Testing accuracy: 0.3891402714932127\n"
     ]
    }
   ],
   "source": [
    "#Looking at Accuracy for our final model with n_neighbors = 5\n",
    "knn = KNeighborsClassifier(n_neighbors = 5, weights = 'distance')\n",
    "knn.fit(X_train, y_train.values.ravel())\n",
    "y_pred_knn = knn.predict(X_test)\n",
    "\n",
    "knn_train_acc = knn.score(X_train, y_train)\n",
    "knn_test_acc = knn.score(X_test, y_test)\n",
    "\n",
    "print('Training accuracy:', knn_train_acc, '    Testing accuracy:', knn_test_acc)"
   ]
  },
  {
   "cell_type": "code",
   "execution_count": 14,
   "id": "91e8d50c",
   "metadata": {},
   "outputs": [
    {
     "data": {
      "text/plain": [
       "<sklearn.metrics._plot.confusion_matrix.ConfusionMatrixDisplay at 0x1adce164f40>"
      ]
     },
     "execution_count": 14,
     "metadata": {},
     "output_type": "execute_result"
    },
    {
     "data": {
      "image/png": "[encoded data removed]",
      "text/plain": [
       "<Figure size 792x792 with 2 Axes>"
      ]
     },
     "metadata": {
      "needs_background": "light"
     },
     "output_type": "display_data"
    }
   ],
   "source": [
    "knn_cf_matrix = confusion_matrix(y_test, y_pred_knn)\n",
    "cmd = ConfusionMatrixDisplay(knn_cf_matrix, display_labels = knn.classes_)\n",
    "\n",
    "fig, ax = plt.subplots(figsize = (11,11))\n",
    "cmd.plot(ax=ax)"
   ]
  },
  {
   "cell_type": "code",
   "execution_count": 15,
   "id": "f10cd27e",
   "metadata": {},
   "outputs": [
    {
     "name": "stdout",
     "output_type": "stream",
     "text": [
      "                       precision    recall  f1-score   support\n",
      "\n",
      "            Aircraft        0.35      0.42      0.38        62\n",
      "Environmental issues        0.25      0.22      0.23        58\n",
      "                Other       0.00      0.00      0.00         8\n",
      "    Personnel issues        0.52      0.51      0.51        93\n",
      "\n",
      "             accuracy                           0.39       221\n",
      "            macro avg       0.28      0.29      0.28       221\n",
      "         weighted avg       0.38      0.39      0.38       221\n",
      "\n"
     ]
    }
   ],
   "source": [
    "print(classification_report(y_test, y_pred_knn, target_names = knn.classes_, zero_division = 0))"
   ]
  },
  {
   "cell_type": "code",
   "execution_count": 16,
   "id": "91a00937",
   "metadata": {},
   "outputs": [],
   "source": [
    "knn_report = classification_report(y_test, y_pred_knn, target_names = knn.classes_, zero_division = 0, output_dict = True)"
   ]
  },
  {
   "cell_type": "markdown",
   "id": "7db917f5",
   "metadata": {},
   "source": [
    "**Support Vector Machine**"
   ]
  },
  {
   "cell_type": "code",
   "execution_count": 17,
   "id": "02510b06",
   "metadata": {},
   "outputs": [
    {
     "name": "stdout",
     "output_type": "stream",
     "text": [
      "{'C': 1, 'class_weight': {'Aircraft ': 1, 'Environmental issues ': 1, 'Personnel issues ': 1, 'Other': 1}, 'gamma': 0.01}\n"
     ]
    }
   ],
   "source": [
    "# defining parameter range\n",
    "svm_params = {'C': [0.1, 1, 10, 100, 1000], \n",
    "            'gamma': [1, 0.1, 0.01, 0.001, 0.0001],\n",
    "            'class_weight': [{'Aircraft ': 1, 'Environmental issues ': 1, 'Personnel issues ':1, 'Other': 1},\n",
    "                             {'Aircraft ': 1, 'Environmental issues ': 1, 'Personnel issues ':1, 'Other': 5},\n",
    "                             {'Aircraft ': 1, 'Environmental issues ': 1, 'Personnel issues ':1, 'Other': 10},\n",
    "                             {'Aircraft ': 2, 'Environmental issues ': 2, 'Personnel issues ':1, 'Other': 5},\n",
    "                             {'Aircraft ': 2, 'Environmental issues ': 2, 'Personnel issues ':1, 'Other': 10},\n",
    "                             'balanced']}\n",
    "  \n",
    "svm_grid = GridSearchCV(SVC(), svm_params)\n",
    "svm_grid.fit(X_train, y_train.values.ravel())\n",
    "print(svm_grid.best_params_)"
   ]
  },
  {
   "cell_type": "code",
   "execution_count": 18,
   "id": "643c0a80",
   "metadata": {},
   "outputs": [
    {
     "name": "stdout",
     "output_type": "stream",
     "text": [
      "Training accuracy: 0.9494163424124513     Testing accuracy: 0.4072398190045249\n"
     ]
    }
   ],
   "source": [
    "#Looking at Accuracy for our final model with C = 1 and gamma = 0.01\n",
    "svm = SVC(C = 1, gamma = .01, class_weight = {'Aircraft ': 1, 'Environmental issues ': 1, 'Personnel issues ':1, 'Other': 1})\n",
    "svm.fit(X_train, y_train.values.ravel())\n",
    "y_pred_svm = svm.predict(X_test)\n",
    "\n",
    "svm_train_acc = svm.score(X_train, y_train)\n",
    "svm_test_acc = svm.score(X_test, y_test)\n",
    "\n",
    "print('Training accuracy:', svm_train_acc, '    Testing accuracy:', svm_test_acc)"
   ]
  },
  {
   "cell_type": "code",
   "execution_count": 19,
   "id": "7478650e",
   "metadata": {},
   "outputs": [
    {
     "data": {
      "text/plain": [
       "<sklearn.metrics._plot.confusion_matrix.ConfusionMatrixDisplay at 0x1adce5011f0>"
      ]
     },
     "execution_count": 19,
     "metadata": {},
     "output_type": "execute_result"
    },
    {
     "data": {
      "image/png": "[encoded data removed]",
      "text/plain": [
       "<Figure size 792x792 with 2 Axes>"
      ]
     },
     "metadata": {
      "needs_background": "light"
     },
     "output_type": "display_data"
    }
   ],
   "source": [
    "svm_cf_matrix = confusion_matrix(y_test, y_pred_svm)\n",
    "cmd = ConfusionMatrixDisplay(svm_cf_matrix, display_labels = svm.classes_)\n",
    "\n",
    "fig, ax = plt.subplots(figsize = (11,11))\n",
    "cmd.plot(ax=ax)"
   ]
  },
  {
   "cell_type": "code",
   "execution_count": 20,
   "id": "0ace5571",
   "metadata": {},
   "outputs": [
    {
     "name": "stdout",
     "output_type": "stream",
     "text": [
      "                       precision    recall  f1-score   support\n",
      "\n",
      "            Aircraft        0.45      0.16      0.24        62\n",
      "Environmental issues        0.25      0.05      0.09        58\n",
      "                Other       0.00      0.00      0.00         8\n",
      "    Personnel issues        0.41      0.83      0.55        93\n",
      "\n",
      "             accuracy                           0.41       221\n",
      "            macro avg       0.28      0.26      0.22       221\n",
      "         weighted avg       0.37      0.41      0.32       221\n",
      "\n"
     ]
    }
   ],
   "source": [
    "print(classification_report(y_test, y_pred_svm, target_names = svm.classes_, zero_division = 0))"
   ]
  },
  {
   "cell_type": "code",
   "execution_count": 21,
   "id": "d13d46f9",
   "metadata": {},
   "outputs": [],
   "source": [
    "svm_report = classification_report(y_test, y_pred_svm, target_names = svm.classes_, zero_division = 0, output_dict = True)"
   ]
  },
  {
   "cell_type": "markdown",
   "id": "f0ff8a42",
   "metadata": {},
   "source": [
    "**Oversampling**\n",
    "\n",
    "We've definitely have an imbalanced dataset, which class weights don't seem to help very much. So I'm going to try oversampling using SMOTE."
   ]
  },
  {
   "cell_type": "code",
   "execution_count": 22,
   "id": "a5d4db11",
   "metadata": {},
   "outputs": [
    {
     "data": {
      "text/plain": [
       "Failure_Category     \n",
       "Personnel issues         217\n",
       "Aircraft                 150\n",
       "Environmental issues     134\n",
       "Other                     13\n",
       "dtype: int64"
      ]
     },
     "execution_count": 22,
     "metadata": {},
     "output_type": "execute_result"
    }
   ],
   "source": [
    "y_train.value_counts()"
   ]
  },
  {
   "cell_type": "code",
   "execution_count": 23,
   "id": "a3f777a2",
   "metadata": {},
   "outputs": [],
   "source": [
    "from imblearn.over_sampling import SMOTE"
   ]
  },
  {
   "cell_type": "code",
   "execution_count": 24,
   "id": "af23fa30",
   "metadata": {},
   "outputs": [],
   "source": [
    "classes = {'Environmental issues ': 150, 'Other': 150}\n",
    "smote = SMOTE(sampling_strategy = classes, random_state = 42)\n",
    "X_train_smote, y_train_smote = smote.fit_resample(X_train, y_train)"
   ]
  },
  {
   "cell_type": "code",
   "execution_count": 25,
   "id": "8b68ecd5",
   "metadata": {},
   "outputs": [
    {
     "data": {
      "text/plain": [
       "Failure_Category     \n",
       "Personnel issues         217\n",
       "Aircraft                 150\n",
       "Environmental issues     150\n",
       "Other                    150\n",
       "dtype: int64"
      ]
     },
     "execution_count": 25,
     "metadata": {},
     "output_type": "execute_result"
    }
   ],
   "source": [
    "y_train_smote.value_counts()"
   ]
  },
  {
   "cell_type": "markdown",
   "id": "9071a151",
   "metadata": {},
   "source": [
    "Now going to try running the three models again with the oversampled data."
   ]
  },
  {
   "cell_type": "markdown",
   "id": "e1e06ba9",
   "metadata": {},
   "source": [
    "**Over Sampled Random Forest**"
   ]
  },
  {
   "cell_type": "code",
   "execution_count": 26,
   "id": "8a5b0003",
   "metadata": {},
   "outputs": [
    {
     "name": "stdout",
     "output_type": "stream",
     "text": [
      "{'n_estimators': 41, 'min_samples_split': 10, 'min_samples_leaf': 1, 'max_depth': 41, 'criterion': 'entropy', 'class_weight': 'balanced'}\n"
     ]
    }
   ],
   "source": [
    "rf_params_smote = {'criterion': ['gini', 'entropy'], \n",
    "                   'class_weight': [{'Aircraft ': 1, 'Environmental issues ': 1, 'Personnel issues ':1, 'Other': 1},\n",
    "                    {'Aircraft ': 1, 'Environmental issues ': 1, 'Personnel issues ':1, 'Other': 5},\n",
    "                    {'Aircraft ': 1, 'Environmental issues ': 1, 'Personnel issues ':1, 'Other': 10},\n",
    "                    {'Aircraft ': 2, 'Environmental issues ': 2, 'Personnel issues ':1, 'Other': 5},\n",
    "                    {'Aircraft ': 2, 'Environmental issues ': 2, 'Personnel issues ':1, 'Other': 10}, \n",
    "                    'balanced'],\n",
    "                   'n_estimators': np.arange(1, 100, step = 5),\n",
    "                   'max_depth': np.arange(1, 50, step = 5),\n",
    "                   'min_samples_split': np.arange(2, 20, step = 2),\n",
    "                   'min_samples_leaf': np.arange(1, 20, step = 2)}\n",
    "                 \n",
    "rf_random_smote = RandomizedSearchCV(RandomForestClassifier(max_features = 'sqrt', random_state = 42), rf_params_smote, \n",
    "                                     n_iter = 500, scoring = 'accuracy', n_jobs = -1, random_state = 123)\n",
    "rf_random_smote.fit(X_train_smote, y_train_smote.values.ravel())\n",
    "print(rf_random_smote.best_params_)"
   ]
  },
  {
   "cell_type": "code",
   "execution_count": 27,
   "id": "cc54bd60",
   "metadata": {},
   "outputs": [
    {
     "name": "stdout",
     "output_type": "stream",
     "text": [
      "Training accuracy: 0.8365817091454273     Testing accuracy: 0.5429864253393665\n"
     ]
    }
   ],
   "source": [
    "#Looking at Accuracy for our final model with parameters from the grid search\n",
    "rf_smote = RandomForestClassifier(n_estimators = 41, min_samples_split = 10, min_samples_leaf = 1, max_depth = 41,\n",
    "                                  criterion = 'entropy', max_features = 'sqrt',  random_state = 42,\n",
    "                                  class_weight = 'balanced')\n",
    "rf_smote.fit(X_train_smote, y_train_smote.values.ravel())\n",
    "y_pred_rf_smote = rf_smote.predict(X_test)\n",
    "\n",
    "rf_smote_train_acc = rf_smote.score(X_train_smote, y_train_smote)\n",
    "rf_smote_test_acc = rf_smote.score(X_test, y_test)\n",
    "\n",
    "print('Training accuracy:', rf_smote_train_acc, '    Testing accuracy:', rf_smote_test_acc)"
   ]
  },
  {
   "cell_type": "code",
   "execution_count": 28,
   "id": "c332e9b3",
   "metadata": {},
   "outputs": [
    {
     "data": {
      "text/plain": [
       "<sklearn.metrics._plot.confusion_matrix.ConfusionMatrixDisplay at 0x1adcc661e80>"
      ]
     },
     "execution_count": 28,
     "metadata": {},
     "output_type": "execute_result"
    },
    {
     "data": {
      "image/png": "[encoded data removed]",
      "text/plain": [
       "<Figure size 792x792 with 2 Axes>"
      ]
     },
     "metadata": {
      "needs_background": "light"
     },
     "output_type": "display_data"
    }
   ],
   "source": [
    "rf_smote_cf_matrix = confusion_matrix(y_test, y_pred_rf_smote)\n",
    "cmd = ConfusionMatrixDisplay(rf_smote_cf_matrix, display_labels = rf_smote.classes_)\n",
    "\n",
    "fig, ax = plt.subplots(figsize = (11,11))\n",
    "cmd.plot(ax=ax)"
   ]
  },
  {
   "cell_type": "code",
   "execution_count": 29,
   "id": "6e7049db",
   "metadata": {},
   "outputs": [
    {
     "name": "stdout",
     "output_type": "stream",
     "text": [
      "                       precision    recall  f1-score   support\n",
      "\n",
      "            Aircraft        0.44      0.56      0.50        62\n",
      "Environmental issues        0.68      0.59      0.63        58\n",
      "                Other       0.17      0.25      0.20         8\n",
      "    Personnel issues        0.61      0.53      0.57        93\n",
      "\n",
      "             accuracy                           0.54       221\n",
      "            macro avg       0.48      0.48      0.47       221\n",
      "         weighted avg       0.57      0.54      0.55       221\n",
      "\n"
     ]
    }
   ],
   "source": [
    "print(classification_report(y_test, y_pred_rf_smote, target_names = rf_smote.classes_, zero_division = 0))"
   ]
  },
  {
   "cell_type": "code",
   "execution_count": 30,
   "id": "1a29983a",
   "metadata": {},
   "outputs": [],
   "source": [
    "rf_smote_report = classification_report(y_test, y_pred_rf_smote, target_names = rf_smote.classes_, zero_division = 0, output_dict = True)"
   ]
  },
  {
   "cell_type": "markdown",
   "id": "a2408193",
   "metadata": {},
   "source": [
    "**Over Sampled K Nearest**"
   ]
  },
  {
   "cell_type": "code",
   "execution_count": 31,
   "id": "a5b1664b",
   "metadata": {},
   "outputs": [],
   "source": [
    "#KNN is dependent on how many neighbors you tell it to use. So going to look at that first\n",
    "neighbors = np.arange(1,20)\n",
    "train_acc_s = {}\n",
    "test_acc_s = {}\n",
    "\n",
    "for n in neighbors:\n",
    "    knn_smote = KNeighborsClassifier(n_neighbors = n, weights = 'distance')\n",
    "    knn_smote.fit(X_train_smote, y_train_smote.values.ravel())\n",
    "    train_acc_s[n] = knn_smote.score(X_train_smote, y_train_smote)\n",
    "    test_acc_s[n] = knn_smote.score(X_test, y_test)"
   ]
  },
  {
   "cell_type": "code",
   "execution_count": 32,
   "id": "225add56",
   "metadata": {},
   "outputs": [
    {
     "data": {
      "image/png": "[encoded data removed]",
      "text/plain": [
       "<Figure size 432x288 with 1 Axes>"
      ]
     },
     "metadata": {
      "needs_background": "light"
     },
     "output_type": "display_data"
    }
   ],
   "source": [
    "#Plotting the accuracies\n",
    "plt.title('KNN: Accuracy vs Number of Neighbors')\n",
    "plt.plot(neighbors, train_acc_s.values(), label = 'Training_accuracies')\n",
    "plt.plot(neighbors, test_acc_s.values(), label = 'Test_accuracies')\n",
    "plt.legend()\n",
    "plt.xlabel('Number of Neighbors')\n",
    "plt.ylabel('Accuracy')\n",
    "plt.show()"
   ]
  },
  {
   "cell_type": "code",
   "execution_count": 33,
   "id": "717e4ce2",
   "metadata": {},
   "outputs": [
    {
     "name": "stdout",
     "output_type": "stream",
     "text": [
      "Training accuracy: 0.5367316341829086     Testing accuracy: 0.3212669683257919\n"
     ]
    }
   ],
   "source": [
    "#Looking at Accuracy for our final model with n_neighbors = 9\n",
    "knn_smote = KNeighborsClassifier(n_neighbors = 9)\n",
    "knn_smote.fit(X_train_smote, y_train_smote.values.ravel())\n",
    "y_pred_knn_smote = knn_smote.predict(X_test)\n",
    "\n",
    "knn_smote_train_acc = knn_smote.score(X_train_smote, y_train_smote)\n",
    "knn_smote_test_acc = knn_smote.score(X_test, y_test)\n",
    "\n",
    "print('Training accuracy:', knn_smote_train_acc, '    Testing accuracy:', knn_smote_test_acc)"
   ]
  },
  {
   "cell_type": "code",
   "execution_count": 34,
   "id": "76c30d3b",
   "metadata": {},
   "outputs": [
    {
     "data": {
      "text/plain": [
       "<sklearn.metrics._plot.confusion_matrix.ConfusionMatrixDisplay at 0x1adcfccc130>"
      ]
     },
     "execution_count": 34,
     "metadata": {},
     "output_type": "execute_result"
    },
    {
     "data": {
      "image/png": "[encoded data removed]",
      "text/plain": [
       "<Figure size 792x792 with 2 Axes>"
      ]
     },
     "metadata": {
      "needs_background": "light"
     },
     "output_type": "display_data"
    }
   ],
   "source": [
    "knn_smote_cf_matrix = confusion_matrix(y_test, y_pred_knn_smote)\n",
    "cmd = ConfusionMatrixDisplay(knn_smote_cf_matrix, display_labels = knn_smote.classes_)\n",
    "\n",
    "fig, ax = plt.subplots(figsize = (11,11))\n",
    "cmd.plot(ax=ax)"
   ]
  },
  {
   "cell_type": "code",
   "execution_count": 35,
   "id": "7574d414",
   "metadata": {},
   "outputs": [
    {
     "name": "stdout",
     "output_type": "stream",
     "text": [
      "                       precision    recall  f1-score   support\n",
      "\n",
      "            Aircraft        0.30      0.35      0.32        62\n",
      "Environmental issues        0.36      0.24      0.29        58\n",
      "                Other       0.03      0.12      0.05         8\n",
      "    Personnel issues        0.45      0.37      0.40        93\n",
      "\n",
      "             accuracy                           0.32       221\n",
      "            macro avg       0.28      0.27      0.27       221\n",
      "         weighted avg       0.37      0.32      0.34       221\n",
      "\n"
     ]
    }
   ],
   "source": [
    "print(classification_report(y_test, y_pred_knn_smote, target_names = knn_smote.classes_, zero_division = 0))"
   ]
  },
  {
   "cell_type": "code",
   "execution_count": 36,
   "id": "70cb92ae",
   "metadata": {},
   "outputs": [],
   "source": [
    "knn_smote_report = classification_report(y_test, y_pred_knn_smote, target_names = knn_smote.classes_, zero_division = 0, output_dict = True)"
   ]
  },
  {
   "cell_type": "markdown",
   "id": "339eb9e2",
   "metadata": {},
   "source": [
    "**Over Sampled SVM**"
   ]
  },
  {
   "cell_type": "code",
   "execution_count": 37,
   "id": "c5012d01",
   "metadata": {},
   "outputs": [
    {
     "name": "stdout",
     "output_type": "stream",
     "text": [
      "{'C': 1, 'class_weight': 'balanced', 'gamma': 0.01}\n"
     ]
    }
   ],
   "source": [
    "# defining parameter range\n",
    "svm_smote_params = {'C': [0.1, 1, 10, 100, 1000], \n",
    "                    'gamma': [1, 0.1, 0.01, 0.001, 0.0001],\n",
    "                    'class_weight': [{'Aircraft ': 1, 'Environmental issues ': 1, 'Personnel issues ':1, 'Other': 1},\n",
    "                        {'Aircraft ': 1, 'Environmental issues ': 1, 'Personnel issues ':1, 'Other': 5},\n",
    "                        {'Aircraft ': 1, 'Environmental issues ': 1, 'Personnel issues ':1, 'Other': 10},\n",
    "                        {'Aircraft ': 2, 'Environmental issues ': 2, 'Personnel issues ':1, 'Other': 2},\n",
    "                        {'Aircraft ': 2, 'Environmental issues ': 2, 'Personnel issues ':1, 'Other': 5},\n",
    "                        'balanced']}\n",
    "  \n",
    "svm_smote_grid = GridSearchCV(SVC(), svm_smote_params)\n",
    "svm_smote_grid.fit(X_train_smote, y_train_smote.values.ravel())\n",
    "print(svm_smote_grid.best_params_)"
   ]
  },
  {
   "cell_type": "code",
   "execution_count": 38,
   "id": "0fc03af7",
   "metadata": {},
   "outputs": [
    {
     "name": "stdout",
     "output_type": "stream",
     "text": [
      "Training accuracy: 0.974512743628186     Testing accuracy: 0.36199095022624433\n"
     ]
    }
   ],
   "source": [
    "#Looking at Accuracy for our final model with C = 1 and gamma = 0.01\n",
    "svm_smote = SVC(C = 1, gamma = .01, class_weight = 'balanced')\n",
    "svm_smote.fit(X_train_smote, y_train_smote.values.ravel())\n",
    "y_pred_svm_smote = svm_smote.predict(X_test)\n",
    "\n",
    "svm_smote_train_acc = svm_smote.score(X_train_smote, y_train_smote)\n",
    "svm_smote_test_acc = svm_smote.score(X_test, y_test)\n",
    "\n",
    "print('Training accuracy:', svm_smote_train_acc, '    Testing accuracy:', svm_smote_test_acc)"
   ]
  },
  {
   "cell_type": "code",
   "execution_count": 39,
   "id": "fa3b55e3",
   "metadata": {},
   "outputs": [
    {
     "data": {
      "text/plain": [
       "<sklearn.metrics._plot.confusion_matrix.ConfusionMatrixDisplay at 0x1adce164f70>"
      ]
     },
     "execution_count": 39,
     "metadata": {},
     "output_type": "execute_result"
    },
    {
     "data": {
      "image/png": "[encoded data removed]",
      "text/plain": [
       "<Figure size 792x792 with 2 Axes>"
      ]
     },
     "metadata": {
      "needs_background": "light"
     },
     "output_type": "display_data"
    }
   ],
   "source": [
    "svm_smote_cf_matrix = confusion_matrix(y_test, y_pred_svm_smote)\n",
    "cmd = ConfusionMatrixDisplay(svm_smote_cf_matrix, display_labels = svm_smote.classes_)\n",
    "\n",
    "fig, ax = plt.subplots(figsize = (11,11))\n",
    "cmd.plot(ax=ax)"
   ]
  },
  {
   "cell_type": "code",
   "execution_count": 40,
   "id": "0f4a23b2",
   "metadata": {},
   "outputs": [
    {
     "name": "stdout",
     "output_type": "stream",
     "text": [
      "                       precision    recall  f1-score   support\n",
      "\n",
      "            Aircraft        0.41      0.21      0.28        62\n",
      "Environmental issues        0.16      0.05      0.08        58\n",
      "                Other       0.00      0.00      0.00         8\n",
      "    Personnel issues        0.42      0.69      0.52        93\n",
      "\n",
      "             accuracy                           0.36       221\n",
      "            macro avg       0.25      0.24      0.22       221\n",
      "         weighted avg       0.33      0.36      0.32       221\n",
      "\n"
     ]
    }
   ],
   "source": [
    "print(classification_report(y_test, y_pred_svm_smote, target_names = svm_smote.classes_, zero_division = 0))"
   ]
  },
  {
   "cell_type": "code",
   "execution_count": 41,
   "id": "56bbb28a",
   "metadata": {},
   "outputs": [],
   "source": [
    "svm_smote_report = classification_report(y_test, y_pred_svm_smote, target_names = svm_smote.classes_, zero_division = 0, output_dict = True)"
   ]
  },
  {
   "cell_type": "markdown",
   "id": "970b5b60",
   "metadata": {},
   "source": [
    "**Comparing Models**\n",
    "\n",
    "Want to compare the model's training accuracy, testing accuracy and weighted averages for precision, recall and f1-score."
   ]
  },
  {
   "cell_type": "code",
   "execution_count": 42,
   "id": "0191c60b",
   "metadata": {},
   "outputs": [
    {
     "data": {
      "text/html": [
       "<div>\n",
       "<style scoped>\n",
       "    .dataframe tbody tr th:only-of-type {\n",
       "        vertical-align: middle;\n",
       "    }\n",
       "\n",
       "    .dataframe tbody tr th {\n",
       "        vertical-align: top;\n",
       "    }\n",
       "\n",
       "    .dataframe thead th {\n",
       "        text-align: right;\n",
       "    }\n",
       "</style>\n",
       "<table border=\"1\" class=\"dataframe\">\n",
       "  <thead>\n",
       "    <tr style=\"text-align: right;\">\n",
       "      <th></th>\n",
       "      <th>Model</th>\n",
       "      <th>Training Acc</th>\n",
       "      <th>Testing Acc</th>\n",
       "      <th>Precision</th>\n",
       "      <th>Recall</th>\n",
       "      <th>f1-score</th>\n",
       "    </tr>\n",
       "  </thead>\n",
       "  <tbody>\n",
       "    <tr>\n",
       "      <th>0</th>\n",
       "      <td>RF</td>\n",
       "      <td>0.599222</td>\n",
       "      <td>0.533937</td>\n",
       "      <td>0.522031</td>\n",
       "      <td>0.533937</td>\n",
       "      <td>0.522005</td>\n",
       "    </tr>\n",
       "    <tr>\n",
       "      <th>1</th>\n",
       "      <td>KNN</td>\n",
       "      <td>1.000000</td>\n",
       "      <td>0.389140</td>\n",
       "      <td>0.380286</td>\n",
       "      <td>0.389140</td>\n",
       "      <td>0.383721</td>\n",
       "    </tr>\n",
       "    <tr>\n",
       "      <th>2</th>\n",
       "      <td>SVM</td>\n",
       "      <td>0.949416</td>\n",
       "      <td>0.407240</td>\n",
       "      <td>0.366407</td>\n",
       "      <td>0.407240</td>\n",
       "      <td>0.320739</td>\n",
       "    </tr>\n",
       "    <tr>\n",
       "      <th>3</th>\n",
       "      <td>Oversampled RF</td>\n",
       "      <td>0.836582</td>\n",
       "      <td>0.542986</td>\n",
       "      <td>0.566535</td>\n",
       "      <td>0.542986</td>\n",
       "      <td>0.550139</td>\n",
       "    </tr>\n",
       "    <tr>\n",
       "      <th>4</th>\n",
       "      <td>Oversampled KNN</td>\n",
       "      <td>0.536732</td>\n",
       "      <td>0.321267</td>\n",
       "      <td>0.367005</td>\n",
       "      <td>0.321267</td>\n",
       "      <td>0.337653</td>\n",
       "    </tr>\n",
       "    <tr>\n",
       "      <th>5</th>\n",
       "      <td>Oversampled SVM</td>\n",
       "      <td>0.974513</td>\n",
       "      <td>0.361991</td>\n",
       "      <td>0.331436</td>\n",
       "      <td>0.361991</td>\n",
       "      <td>0.317008</td>\n",
       "    </tr>\n",
       "  </tbody>\n",
       "</table>\n",
       "</div>"
      ],
      "text/plain": [
       "             Model  Training Acc  Testing Acc  Precision    Recall  f1-score\n",
       "0               RF      0.599222     0.533937   0.522031  0.533937  0.522005\n",
       "1              KNN      1.000000     0.389140   0.380286  0.389140  0.383721\n",
       "2              SVM      0.949416     0.407240   0.366407  0.407240  0.320739\n",
       "3   Oversampled RF      0.836582     0.542986   0.566535  0.542986  0.550139\n",
       "4  Oversampled KNN      0.536732     0.321267   0.367005  0.321267  0.337653\n",
       "5  Oversampled SVM      0.974513     0.361991   0.331436  0.361991  0.317008"
      ]
     },
     "execution_count": 42,
     "metadata": {},
     "output_type": "execute_result"
    }
   ],
   "source": [
    "model_data = {'Model': ['RF', 'KNN', 'SVM', 'Oversampled RF', 'Oversampled KNN', 'Oversampled SVM'],\n",
    "             'Training Acc': [rf_train_acc, knn_train_acc, svm_train_acc, rf_smote_train_acc, knn_smote_train_acc, svm_smote_train_acc],\n",
    "             'Testing Acc': [rf_test_acc, knn_test_acc, svm_test_acc, rf_smote_test_acc, knn_smote_test_acc, svm_smote_test_acc],\n",
    "             'Precision': [rf_report['weighted avg']['precision'], knn_report['weighted avg']['precision'], svm_report['weighted avg']['precision'],\n",
    "                          rf_smote_report['weighted avg']['precision'], knn_smote_report['weighted avg']['precision'], svm_smote_report['weighted avg']['precision']],\n",
    "             'Recall': [rf_report['weighted avg']['recall'], knn_report['weighted avg']['recall'], svm_report['weighted avg']['recall'],\n",
    "                       rf_smote_report['weighted avg']['recall'], knn_smote_report['weighted avg']['recall'], svm_smote_report['weighted avg']['recall']],\n",
    "             'f1-score': [rf_report['weighted avg']['f1-score'], knn_report['weighted avg']['f1-score'], svm_report['weighted avg']['f1-score'],\n",
    "                         rf_smote_report['weighted avg']['f1-score'], knn_smote_report['weighted avg']['f1-score'], svm_smote_report['weighted avg']['f1-score']]}\n",
    "\n",
    "#making a dataframe\n",
    "results = pd.DataFrame(model_data)\n",
    "results"
   ]
  },
  {
   "cell_type": "markdown",
   "id": "542c022e",
   "metadata": {},
   "source": [
    "Overall, the Random Forest Model trained with the SMOTE oversampled data gives the best performance of the three models tried. Oversampling the data marginally helped the random forest model, but actually decreased the performance in the KNN and SVM models.\n",
    "\n",
    "The Random Forest Model that worked best used the following paramters: criterion = 'entropy', n_estimators = 41, min_samples_split = 10, min_samples_leaf = 1, max_depth = 41, max_features = 'sqrt', class_weight = 'balanced'."
   ]
  }
 ],
 "metadata": {
  "kernelspec": {
   "display_name": "Python 3 (ipykernel)",
   "language": "python",
   "name": "python3"
  },
  "language_info": {
   "codemirror_mode": {
    "name": "ipython",
    "version": 3
   },
   "file_extension": ".py",
   "mimetype": "text/x-python",
   "name": "python",
   "nbconvert_exporter": "python",
   "pygments_lexer": "ipython3",
   "version": "3.9.7"
  }
 },
 "nbformat": 4,
 "nbformat_minor": 5
}
