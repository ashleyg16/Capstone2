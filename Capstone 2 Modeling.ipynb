{
 "cells": [
  {
   "cell_type": "markdown",
   "id": "a6bbcd2e",
   "metadata": {},
   "source": [
    "**Capstone 2: Modeling**\n",
    "\n",
    "Problem Statement: The National Transportation Safety Board (NTSB) has an Aviation Accident Database that contains information about civil aviation accidents and incidents that they investigate within the United States, its territories and international waters. For this Project, we will specifically be looking at airplane accidents for the 20 years from 2002 to 2021. The operations included are scheduled Part 121: Air Carrier, which includes most passenger airlines, as well as Part 135: Small Carrier for both commuter and ‘air taxi’ small aircraft. This dataset does not include aircraft accidents where the aircraft involved was amateur built."
   ]
  },
  {
   "cell_type": "markdown",
   "id": "60b54d20",
   "metadata": {},
   "source": [
    "**Modeling**\n",
    "\n",
    "The dataset we're working with is trying to predict which category an accident falls into based on region/location, month, FAR Part number and type of injuries/count. Since we are working with categorical data and I have the labels, I'm going to be using these Supervised Classifcation models to see which one works best:\n",
    "\n",
    "Random Forest <br> K-Nearest Neighbor <br> Support Vector Machine"
   ]
  },
  {
   "cell_type": "markdown",
   "id": "3619585f",
   "metadata": {},
   "source": [
    "**Initial Steps**"
   ]
  },
  {
   "cell_type": "code",
   "execution_count": 1,
   "id": "4417096e",
   "metadata": {},
   "outputs": [],
   "source": [
    "import pandas as pd\n",
    "import numpy as np\n",
    "import matplotlib.pyplot as plt\n",
    "import seaborn as sns"
   ]
  },
  {
   "cell_type": "code",
   "execution_count": 2,
   "id": "cb6ee17e",
   "metadata": {},
   "outputs": [],
   "source": [
    "X_train = pd.read_excel('data/X_train.xlsx')\n",
    "X_test = pd.read_excel('data/X_test.xlsx')\n",
    "y_train = pd.read_excel('data/y_train.xlsx')\n",
    "y_test = pd.read_excel('data/y_test.xlsx')"
   ]
  },
  {
   "cell_type": "markdown",
   "id": "336753c7",
   "metadata": {},
   "source": [
    "**Looking at the difference models compared to each other**\n",
    "\n",
    "Want to see in general, how these different models are going to compare to each other with this data. This will use the default parameters for each model. Will then go into each model and do train/test. Followed by hyperparameter tuning for the best one or two models."
   ]
  },
  {
   "cell_type": "code",
   "execution_count": 3,
   "id": "dc06a03e",
   "metadata": {},
   "outputs": [],
   "source": [
    "from sklearn.model_selection import KFold\n",
    "\n",
    "from sklearn.ensemble import RandomForestClassifier\n",
    "from sklearn.neighbors import KNeighborsClassifier\n",
    "from sklearn.svm import SVC\n",
    "from sklearn.model_selection import GridSearchCV\n",
    "from sklearn.model_selection import RandomizedSearchCV\n",
    "\n",
    "from sklearn.model_selection import cross_val_score\n",
    "from sklearn.metrics import confusion_matrix\n",
    "from sklearn.metrics import ConfusionMatrixDisplay\n",
    "from sklearn.metrics import classification_report"
   ]
  },
  {
   "cell_type": "code",
   "execution_count": 4,
   "id": "8a6ecb0c",
   "metadata": {},
   "outputs": [
    {
     "data": {
      "image/png": "[encoded data removed]",
      "text/plain": [
       "<Figure size 432x288 with 1 Axes>"
      ]
     },
     "metadata": {
      "needs_background": "light"
     },
     "output_type": "display_data"
    }
   ],
   "source": [
    "models = {'Random Forest': RandomForestClassifier(), 'KNN': KNeighborsClassifier(), 'SVM': SVC()}\n",
    "results = []\n",
    "for model in models.values():\n",
    "    kf = KFold(n_splits = 6, random_state = 42, shuffle = True)\n",
    "    cv_results = cross_val_score(model, X_train, y_train.values.ravel(), cv=kf)\n",
    "    results.append(cv_results)\n",
    "    \n",
    "plt.boxplot(results, labels = models.keys())\n",
    "plt.ylabel('Accuracy')\n",
    "plt.show()"
   ]
  },
  {
   "cell_type": "markdown",
   "id": "b11f6558",
   "metadata": {},
   "source": [
    "None of the models are looking very good based on accuracy, but it looks SVM will end up being the best model. We will need to fine tune these options to see if they improve at all. "
   ]
  },
  {
   "cell_type": "markdown",
   "id": "6709505e",
   "metadata": {},
   "source": [
    "**Class Weights**"
   ]
  },
  {
   "cell_type": "markdown",
   "id": "afb788ca",
   "metadata": {},
   "source": [
    "We definitely have imbalanced classes, so going to play with class weights in each model that is run."
   ]
  },
  {
   "cell_type": "code",
   "execution_count": 5,
   "id": "95b3f716",
   "metadata": {},
   "outputs": [],
   "source": [
    "#class_weights = {'Aircraft ': 2, 'Environmental issues ': 2, 'Personnel issues ':1, 'Other': 5}"
   ]
  },
  {
   "cell_type": "markdown",
   "id": "d9576946",
   "metadata": {},
   "source": [
    "**Random Forest**"
   ]
  },
  {
   "cell_type": "code",
   "execution_count": 5,
   "id": "4d879d99",
   "metadata": {},
   "outputs": [
    {
     "name": "stdout",
     "output_type": "stream",
     "text": [
      "{'n_estimators': 76, 'min_samples_split': 16, 'min_samples_leaf': 9, 'max_depth': 41, 'criterion': 'gini', 'class_weight': {'Aircraft ': 1, 'Environmental issues ': 1, 'Personnel issues ': 1, 'Other': 1}}\n"
     ]
    }
   ],
   "source": [
    "#using random searh first to see what parameters should be around\n",
    "rf_params = {'criterion': ['gini', 'entropy'], \n",
    "                 'class_weight': [{'Aircraft ': 1, 'Environmental issues ': 1, 'Personnel issues ':1, 'Other': 1},\n",
    "                    {'Aircraft ': 1, 'Environmental issues ': 1, 'Personnel issues ':1, 'Other': 5},\n",
    "                    {'Aircraft ': 1, 'Environmental issues ': 1, 'Personnel issues ':1, 'Other': 10},\n",
    "                    {'Aircraft ': 2, 'Environmental issues ': 2, 'Personnel issues ':1, 'Other': 5},\n",
    "                    {'Aircraft ': 2, 'Environmental issues ': 2, 'Personnel issues ':1, 'Other': 10}, \n",
    "                    'balanced'],\n",
    "                 'n_estimators': np.arange(1, 200, step = 5),\n",
    "                 'max_depth': np.arange(1, 100, step = 5),\n",
    "                 'min_samples_split': np.arange(2, 20, step = 2),\n",
    "                 'min_samples_leaf': np.arange(1, 20, step = 2)}\n",
    "                 \n",
    "rf_random = RandomizedSearchCV(RandomForestClassifier(max_features = 'sqrt', random_state = 42), rf_params, n_iter = 500, \n",
    "                               scoring = 'accuracy', n_jobs = -1, random_state = 42)\n",
    "rf_random.fit(X_train, y_train.values.ravel())\n",
    "print(rf_random.best_params_)"
   ]
  },
  {
   "cell_type": "code",
   "execution_count": 6,
   "id": "950f861e",
   "metadata": {},
   "outputs": [
    {
     "name": "stdout",
     "output_type": "stream",
     "text": [
      "Training accuracy: 0.5680933852140078     Testing accuracy: 0.5339366515837104\n"
     ]
    }
   ],
   "source": [
    "#Looking at Accuracy for our final model with parameters from the grid search\n",
    "rf = RandomForestClassifier(n_estimators = 76, min_samples_split = 16, min_samples_leaf = 9, max_depth = 41,\n",
    "                            criterion = 'gini', max_features = 'sqrt', random_state = 42,\n",
    "                            class_weight = {'Aircraft ': 1, 'Environmental issues ': 1, 'Personnel issues ': 1, 'Other': 1})\n",
    "rf.fit(X_train, y_train.values.ravel())\n",
    "y_pred_rf = rf.predict(X_test)\n",
    "\n",
    "rf_train_acc = rf.score(X_train, y_train)\n",
    "rf_test_acc = rf.score(X_test, y_test)\n",
    "\n",
    "print('Training accuracy:', rf_train_acc, '    Testing accuracy:', rf_test_acc)"
   ]
  },
  {
   "cell_type": "code",
   "execution_count": 7,
   "id": "dd659062",
   "metadata": {},
   "outputs": [
    {
     "data": {
      "text/plain": [
       "<sklearn.metrics._plot.confusion_matrix.ConfusionMatrixDisplay at 0x1b680bbf1c0>"
      ]
     },
     "execution_count": 7,
     "metadata": {},
     "output_type": "execute_result"
    },
    {
     "data": {
      "image/png": "[encoded data removed]",
      "text/plain": [
       "<Figure size 792x792 with 2 Axes>"
      ]
     },
     "metadata": {
      "needs_background": "light"
     },
     "output_type": "display_data"
    }
   ],
   "source": [
    "rf_cf_matrix = confusion_matrix(y_test, y_pred_rf)\n",
    "cmd = ConfusionMatrixDisplay(rf_cf_matrix, display_labels = rf.classes_)\n",
    "\n",
    "fig, ax = plt.subplots(figsize = (11,11))\n",
    "cmd.plot(ax=ax)"
   ]
  },
  {
   "cell_type": "code",
   "execution_count": 8,
   "id": "495fe76d",
   "metadata": {},
   "outputs": [
    {
     "name": "stdout",
     "output_type": "stream",
     "text": [
      "                       precision    recall  f1-score   support\n",
      "\n",
      "            Aircraft        0.44      0.35      0.39        62\n",
      "Environmental issues        0.72      0.57      0.63        58\n",
      "                Other       0.00      0.00      0.00         8\n",
      "    Personnel issues        0.50      0.68      0.58        93\n",
      "\n",
      "             accuracy                           0.53       221\n",
      "            macro avg       0.42      0.40      0.40       221\n",
      "         weighted avg       0.52      0.53      0.52       221\n",
      "\n"
     ]
    }
   ],
   "source": [
    "print(classification_report(y_test, y_pred_rf, target_names = rf.classes_, zero_division = 0))"
   ]
  },
  {
   "cell_type": "code",
   "execution_count": 9,
   "id": "18a66a21",
   "metadata": {},
   "outputs": [],
   "source": [
    "#to use later to compare all the model, I'm going to save the report as a dictionary\n",
    "rf_report = classification_report(y_test, y_pred_rf, target_names = rf.classes_, zero_division = 0, output_dict = True)"
   ]
  },
  {
   "cell_type": "markdown",
   "id": "5afa0ce9",
   "metadata": {},
   "source": [
    "**K-Nearest Neighbor**"
   ]
  },
  {
   "cell_type": "code",
   "execution_count": 10,
   "id": "a09e245e",
   "metadata": {},
   "outputs": [],
   "source": [
    "#KNN is dependent on how many neighbors you tell it to use. So going to look at that first\n",
    "neighbors = np.arange(1,20)\n",
    "train_acc = {}\n",
    "test_acc = {}\n",
    "\n",
    "for n in neighbors:\n",
    "    knn = KNeighborsClassifier(n_neighbors = n, weights = 'distance')\n",
    "    knn.fit(X_train, y_train.values.ravel())\n",
    "    train_acc[n] = knn.score(X_train, y_train)\n",
    "    test_acc[n] = knn.score(X_test, y_test)"
   ]
  },
  {
   "cell_type": "code",
   "execution_count": 11,
   "id": "891ec5fe",
   "metadata": {},
   "outputs": [
    {
     "data": {
      "image/png": "[encoded data removed]",
      "text/plain": [
       "<Figure size 432x288 with 1 Axes>"
      ]
     },
     "metadata": {
      "needs_background": "light"
     },
     "output_type": "display_data"
    }
   ],
   "source": [
    "#Plotting the accuracies\n",
    "plt.title('KNN: Accuracy vs Number of Neighbors')\n",
    "plt.plot(neighbors, train_acc.values(), label = 'Training_accuracies')\n",
    "plt.plot(neighbors, test_acc.values(), label = 'Test_accuracies')\n",
    "plt.legend()\n",
    "plt.xlabel('Number of Neighbors')\n",
    "plt.ylabel('Accuracy')\n",
    "plt.show()"
   ]
  },
  {
   "cell_type": "code",
   "execution_count": 12,
   "id": "c28e729d",
   "metadata": {},
   "outputs": [
    {
     "name": "stdout",
     "output_type": "stream",
     "text": [
      "Training accuracy: 0.811284046692607     Testing accuracy: 0.5067873303167421\n"
     ]
    }
   ],
   "source": [
    "#Looking at Accuracy for our final model with n_neighbors = 5\n",
    "knn = KNeighborsClassifier(n_neighbors = 5, weights = 'distance')\n",
    "knn.fit(X_train, y_train.values.ravel())\n",
    "y_pred_knn = knn.predict(X_test)\n",
    "\n",
    "knn_train_acc = knn.score(X_train, y_train)\n",
    "knn_test_acc = knn.score(X_test, y_test)\n",
    "\n",
    "print('Training accuracy:', knn_train_acc, '    Testing accuracy:', knn_test_acc)"
   ]
  },
  {
   "cell_type": "code",
   "execution_count": 13,
   "id": "91e8d50c",
   "metadata": {},
   "outputs": [
    {
     "data": {
      "text/plain": [
       "<sklearn.metrics._plot.confusion_matrix.ConfusionMatrixDisplay at 0x1b680d4a970>"
      ]
     },
     "execution_count": 13,
     "metadata": {},
     "output_type": "execute_result"
    },
    {
     "data": {
      "image/png": "[encoded data removed]",
      "text/plain": [
       "<Figure size 792x792 with 2 Axes>"
      ]
     },
     "metadata": {
      "needs_background": "light"
     },
     "output_type": "display_data"
    }
   ],
   "source": [
    "knn_cf_matrix = confusion_matrix(y_test, y_pred_knn)\n",
    "cmd = ConfusionMatrixDisplay(knn_cf_matrix, display_labels = knn.classes_)\n",
    "\n",
    "fig, ax = plt.subplots(figsize = (11,11))\n",
    "cmd.plot(ax=ax)"
   ]
  },
  {
   "cell_type": "code",
   "execution_count": 14,
   "id": "f10cd27e",
   "metadata": {},
   "outputs": [
    {
     "name": "stdout",
     "output_type": "stream",
     "text": [
      "                       precision    recall  f1-score   support\n",
      "\n",
      "            Aircraft        0.44      0.58      0.50        62\n",
      "Environmental issues        0.52      0.50      0.51        58\n",
      "                Other       0.00      0.00      0.00         8\n",
      "    Personnel issues        0.56      0.51      0.53        93\n",
      "\n",
      "             accuracy                           0.51       221\n",
      "            macro avg       0.38      0.40      0.39       221\n",
      "         weighted avg       0.50      0.51      0.50       221\n",
      "\n"
     ]
    }
   ],
   "source": [
    "print(classification_report(y_test, y_pred_knn, target_names = knn.classes_, zero_division = 0))"
   ]
  },
  {
   "cell_type": "code",
   "execution_count": 15,
   "id": "91a00937",
   "metadata": {},
   "outputs": [],
   "source": [
    "knn_report = classification_report(y_test, y_pred_knn, target_names = knn.classes_, zero_division = 0, output_dict = True)"
   ]
  },
  {
   "cell_type": "markdown",
   "id": "7db917f5",
   "metadata": {},
   "source": [
    "**Support Vector Machine**"
   ]
  },
  {
   "cell_type": "code",
   "execution_count": 16,
   "id": "02510b06",
   "metadata": {},
   "outputs": [
    {
     "name": "stdout",
     "output_type": "stream",
     "text": [
      "{'C': 1, 'class_weight': {'Aircraft ': 1, 'Environmental issues ': 1, 'Personnel issues ': 1, 'Other': 1}, 'gamma': 0.1}\n"
     ]
    }
   ],
   "source": [
    "# defining parameter range\n",
    "svm_params = {'C': [0.1, 1, 10, 100, 1000], \n",
    "            'gamma': [10, 1, 0.1, 0.01, 0.001, 0.0001],\n",
    "            'class_weight': [{'Aircraft ': 1, 'Environmental issues ': 1, 'Personnel issues ':1, 'Other': 1},\n",
    "                             {'Aircraft ': 1, 'Environmental issues ': 1, 'Personnel issues ':1, 'Other': 5},\n",
    "                             {'Aircraft ': 1, 'Environmental issues ': 1, 'Personnel issues ':1, 'Other': 10},\n",
    "                             {'Aircraft ': 2, 'Environmental issues ': 2, 'Personnel issues ':1, 'Other': 5},\n",
    "                             {'Aircraft ': 2, 'Environmental issues ': 2, 'Personnel issues ':1, 'Other': 10},\n",
    "                             'balanced']}\n",
    "  \n",
    "svm_grid = GridSearchCV(SVC(), svm_params)\n",
    "svm_grid.fit(X_train, y_train.values.ravel())\n",
    "print(svm_grid.best_params_)"
   ]
  },
  {
   "cell_type": "code",
   "execution_count": 17,
   "id": "643c0a80",
   "metadata": {},
   "outputs": [
    {
     "name": "stdout",
     "output_type": "stream",
     "text": [
      "Training accuracy: 0.5505836575875487     Testing accuracy: 0.5429864253393665\n"
     ]
    }
   ],
   "source": [
    "#Looking at Accuracy for our final model with C = 1 and gamma = 0.01\n",
    "svm = SVC(C = 1, gamma = .1, class_weight = {'Aircraft ': 1, 'Environmental issues ': 1, 'Personnel issues ':1, 'Other': 1})\n",
    "svm.fit(X_train, y_train.values.ravel())\n",
    "y_pred_svm = svm.predict(X_test)\n",
    "\n",
    "svm_train_acc = svm.score(X_train, y_train)\n",
    "svm_test_acc = svm.score(X_test, y_test)\n",
    "\n",
    "print('Training accuracy:', svm_train_acc, '    Testing accuracy:', svm_test_acc)"
   ]
  },
  {
   "cell_type": "code",
   "execution_count": 18,
   "id": "7478650e",
   "metadata": {},
   "outputs": [
    {
     "data": {
      "text/plain": [
       "<sklearn.metrics._plot.confusion_matrix.ConfusionMatrixDisplay at 0x1b681391520>"
      ]
     },
     "execution_count": 18,
     "metadata": {},
     "output_type": "execute_result"
    },
    {
     "data": {
      "image/png": "[encoded data removed]",
      "text/plain": [
       "<Figure size 792x792 with 2 Axes>"
      ]
     },
     "metadata": {
      "needs_background": "light"
     },
     "output_type": "display_data"
    }
   ],
   "source": [
    "svm_cf_matrix = confusion_matrix(y_test, y_pred_svm)\n",
    "cmd = ConfusionMatrixDisplay(svm_cf_matrix, display_labels = svm.classes_)\n",
    "\n",
    "fig, ax = plt.subplots(figsize = (11,11))\n",
    "cmd.plot(ax=ax)"
   ]
  },
  {
   "cell_type": "code",
   "execution_count": 19,
   "id": "0ace5571",
   "metadata": {},
   "outputs": [
    {
     "name": "stdout",
     "output_type": "stream",
     "text": [
      "                       precision    recall  f1-score   support\n",
      "\n",
      "            Aircraft        0.45      0.66      0.54        62\n",
      "Environmental issues        0.72      0.57      0.63        58\n",
      "                Other       0.00      0.00      0.00         8\n",
      "    Personnel issues        0.55      0.49      0.52        93\n",
      "\n",
      "             accuracy                           0.54       221\n",
      "            macro avg       0.43      0.43      0.42       221\n",
      "         weighted avg       0.55      0.54      0.54       221\n",
      "\n"
     ]
    }
   ],
   "source": [
    "print(classification_report(y_test, y_pred_svm, target_names = svm.classes_, zero_division = 0))"
   ]
  },
  {
   "cell_type": "code",
   "execution_count": 20,
   "id": "d13d46f9",
   "metadata": {},
   "outputs": [],
   "source": [
    "svm_report = classification_report(y_test, y_pred_svm, target_names = svm.classes_, zero_division = 0, output_dict = True)"
   ]
  },
  {
   "cell_type": "markdown",
   "id": "f0ff8a42",
   "metadata": {},
   "source": [
    "**Oversampling**\n",
    "\n",
    "We've definitely have an imbalanced dataset, which class weights don't seem to help very much. So I'm going to try oversampling using SMOTE."
   ]
  },
  {
   "cell_type": "code",
   "execution_count": 21,
   "id": "a5d4db11",
   "metadata": {},
   "outputs": [
    {
     "data": {
      "text/plain": [
       "Failure_Category     \n",
       "Personnel issues         217\n",
       "Aircraft                 150\n",
       "Environmental issues     134\n",
       "Other                     13\n",
       "dtype: int64"
      ]
     },
     "execution_count": 21,
     "metadata": {},
     "output_type": "execute_result"
    }
   ],
   "source": [
    "y_train.value_counts()"
   ]
  },
  {
   "cell_type": "code",
   "execution_count": 22,
   "id": "a3f777a2",
   "metadata": {},
   "outputs": [],
   "source": [
    "from imblearn.over_sampling import SMOTE"
   ]
  },
  {
   "cell_type": "code",
   "execution_count": 23,
   "id": "af23fa30",
   "metadata": {},
   "outputs": [],
   "source": [
    "classes = {'Environmental issues ': 150, 'Other': 150}\n",
    "smote = SMOTE(sampling_strategy = classes, random_state = 42)\n",
    "X_train_smote, y_train_smote = smote.fit_resample(X_train, y_train)"
   ]
  },
  {
   "cell_type": "code",
   "execution_count": 24,
   "id": "8b68ecd5",
   "metadata": {},
   "outputs": [
    {
     "data": {
      "text/plain": [
       "Failure_Category     \n",
       "Personnel issues         217\n",
       "Aircraft                 150\n",
       "Environmental issues     150\n",
       "Other                    150\n",
       "dtype: int64"
      ]
     },
     "execution_count": 24,
     "metadata": {},
     "output_type": "execute_result"
    }
   ],
   "source": [
    "y_train_smote.value_counts()"
   ]
  },
  {
   "cell_type": "markdown",
   "id": "9071a151",
   "metadata": {},
   "source": [
    "Now going to try running the three models again with the oversampled data."
   ]
  },
  {
   "cell_type": "markdown",
   "id": "2c2b2d58",
   "metadata": {},
   "source": [
    "**Basic Run**"
   ]
  },
  {
   "cell_type": "code",
   "execution_count": 25,
   "id": "5a286537",
   "metadata": {},
   "outputs": [
    {
     "data": {
      "image/png": "[encoded data removed]",
      "text/plain": [
       "<Figure size 432x288 with 1 Axes>"
      ]
     },
     "metadata": {
      "needs_background": "light"
     },
     "output_type": "display_data"
    }
   ],
   "source": [
    "models = {'Random Forest': RandomForestClassifier(), 'KNN': KNeighborsClassifier(), 'SVM': SVC()}\n",
    "results_smote = []\n",
    "for model in models.values():\n",
    "    kf = KFold(n_splits = 6, random_state = 42, shuffle = True)\n",
    "    cv_results = cross_val_score(model, X_train_smote, y_train_smote.values.ravel(), cv=kf)\n",
    "    results_smote.append(cv_results)\n",
    "    \n",
    "plt.boxplot(results_smote, labels = models.keys())\n",
    "plt.ylabel('Accuracy')\n",
    "plt.show()"
   ]
  },
  {
   "cell_type": "markdown",
   "id": "4a618dfe",
   "metadata": {},
   "source": [
    "Using oversampled data, it looks like Random Forest and SVM are going to be very similar with SVM having a slight edge ahead."
   ]
  },
  {
   "cell_type": "markdown",
   "id": "e1e06ba9",
   "metadata": {},
   "source": [
    "**Over Sampled Random Forest**"
   ]
  },
  {
   "cell_type": "code",
   "execution_count": 26,
   "id": "8a5b0003",
   "metadata": {},
   "outputs": [
    {
     "name": "stdout",
     "output_type": "stream",
     "text": [
      "{'n_estimators': 161, 'min_samples_split': 14, 'min_samples_leaf': 1, 'max_depth': 26, 'criterion': 'entropy', 'class_weight': {'Aircraft ': 1, 'Environmental issues ': 1, 'Personnel issues ': 1, 'Other': 1}}\n"
     ]
    }
   ],
   "source": [
    "rf_params_smote = {'criterion': ['gini', 'entropy'], \n",
    "                   'class_weight': [{'Aircraft ': 1, 'Environmental issues ': 1, 'Personnel issues ':1, 'Other': 1},\n",
    "                    {'Aircraft ': 1, 'Environmental issues ': 1, 'Personnel issues ':1, 'Other': 5},\n",
    "                    {'Aircraft ': 1, 'Environmental issues ': 1, 'Personnel issues ':1, 'Other': 10},\n",
    "                    {'Aircraft ': 2, 'Environmental issues ': 2, 'Personnel issues ':1, 'Other': 5},\n",
    "                    {'Aircraft ': 2, 'Environmental issues ': 2, 'Personnel issues ':1, 'Other': 10}, \n",
    "                    'balanced'],\n",
    "                   'n_estimators': np.arange(1, 200, step = 5),\n",
    "                   'max_depth': np.arange(1, 100, step = 5),\n",
    "                   'min_samples_split': np.arange(2, 20, step = 2),\n",
    "                   'min_samples_leaf': np.arange(1, 20, step = 2)}\n",
    "                 \n",
    "rf_random_smote = RandomizedSearchCV(RandomForestClassifier(max_features = 'sqrt', random_state = 42), rf_params_smote, \n",
    "                                     n_iter = 500, scoring = 'accuracy', n_jobs = -1, random_state = 42)\n",
    "rf_random_smote.fit(X_train_smote, y_train_smote.values.ravel())\n",
    "print(rf_random_smote.best_params_)"
   ]
  },
  {
   "cell_type": "code",
   "execution_count": 27,
   "id": "cc54bd60",
   "metadata": {},
   "outputs": [
    {
     "name": "stdout",
     "output_type": "stream",
     "text": [
      "Training accuracy: 0.7346326836581709     Testing accuracy: 0.5203619909502263\n"
     ]
    }
   ],
   "source": [
    "#Looking at Accuracy for our final model with parameters from the grid search\n",
    "rf_smote = RandomForestClassifier(n_estimators = 161, min_samples_split = 14, min_samples_leaf = 1, max_depth = 26,\n",
    "                                  criterion = 'entropy', max_features = 'sqrt',  random_state = 42,\n",
    "                                  class_weight = {'Aircraft ': 1, 'Environmental issues ': 1, 'Personnel issues ':1, 'Other': 1})\n",
    "rf_smote.fit(X_train_smote, y_train_smote.values.ravel())\n",
    "y_pred_rf_smote = rf_smote.predict(X_test)\n",
    "\n",
    "rf_smote_train_acc = rf_smote.score(X_train_smote, y_train_smote)\n",
    "rf_smote_test_acc = rf_smote.score(X_test, y_test)\n",
    "\n",
    "print('Training accuracy:', rf_smote_train_acc, '    Testing accuracy:', rf_smote_test_acc)"
   ]
  },
  {
   "cell_type": "code",
   "execution_count": 28,
   "id": "c332e9b3",
   "metadata": {},
   "outputs": [
    {
     "data": {
      "text/plain": [
       "<sklearn.metrics._plot.confusion_matrix.ConfusionMatrixDisplay at 0x1b682d69100>"
      ]
     },
     "execution_count": 28,
     "metadata": {},
     "output_type": "execute_result"
    },
    {
     "data": {
      "image/png": "[encoded data removed]",
      "text/plain": [
       "<Figure size 792x792 with 2 Axes>"
      ]
     },
     "metadata": {
      "needs_background": "light"
     },
     "output_type": "display_data"
    }
   ],
   "source": [
    "rf_smote_cf_matrix = confusion_matrix(y_test, y_pred_rf_smote)\n",
    "cmd = ConfusionMatrixDisplay(rf_smote_cf_matrix, display_labels = rf_smote.classes_)\n",
    "\n",
    "fig, ax = plt.subplots(figsize = (11,11))\n",
    "cmd.plot(ax=ax)"
   ]
  },
  {
   "cell_type": "code",
   "execution_count": 29,
   "id": "6e7049db",
   "metadata": {},
   "outputs": [
    {
     "name": "stdout",
     "output_type": "stream",
     "text": [
      "                       precision    recall  f1-score   support\n",
      "\n",
      "            Aircraft        0.44      0.47      0.45        62\n",
      "Environmental issues        0.72      0.53      0.61        58\n",
      "                Other       0.12      0.12      0.12         8\n",
      "    Personnel issues        0.52      0.58      0.55        93\n",
      "\n",
      "             accuracy                           0.52       221\n",
      "            macro avg       0.45      0.43      0.44       221\n",
      "         weighted avg       0.54      0.52      0.52       221\n",
      "\n"
     ]
    }
   ],
   "source": [
    "print(classification_report(y_test, y_pred_rf_smote, target_names = rf_smote.classes_, zero_division = 0))"
   ]
  },
  {
   "cell_type": "code",
   "execution_count": 30,
   "id": "1a29983a",
   "metadata": {},
   "outputs": [],
   "source": [
    "rf_smote_report = classification_report(y_test, y_pred_rf_smote, target_names = rf_smote.classes_, zero_division = 0, output_dict = True)"
   ]
  },
  {
   "cell_type": "markdown",
   "id": "a2408193",
   "metadata": {},
   "source": [
    "**Over Sampled K Nearest**"
   ]
  },
  {
   "cell_type": "code",
   "execution_count": 31,
   "id": "a5b1664b",
   "metadata": {},
   "outputs": [],
   "source": [
    "#KNN is dependent on how many neighbors you tell it to use. So going to look at that first\n",
    "neighbors = np.arange(1,20)\n",
    "train_acc_s = {}\n",
    "test_acc_s = {}\n",
    "\n",
    "for n in neighbors:\n",
    "    knn_smote = KNeighborsClassifier(n_neighbors = n, weights = 'distance')\n",
    "    knn_smote.fit(X_train_smote, y_train_smote.values.ravel())\n",
    "    train_acc_s[n] = knn_smote.score(X_train_smote, y_train_smote)\n",
    "    test_acc_s[n] = knn_smote.score(X_test, y_test)"
   ]
  },
  {
   "cell_type": "code",
   "execution_count": 32,
   "id": "225add56",
   "metadata": {},
   "outputs": [
    {
     "data": {
      "image/png": "[encoded data removed]",
      "text/plain": [
       "<Figure size 432x288 with 1 Axes>"
      ]
     },
     "metadata": {
      "needs_background": "light"
     },
     "output_type": "display_data"
    }
   ],
   "source": [
    "#Plotting the accuracies\n",
    "plt.title('KNN: Accuracy vs Number of Neighbors')\n",
    "plt.plot(neighbors, train_acc_s.values(), label = 'Training_accuracies')\n",
    "plt.plot(neighbors, test_acc_s.values(), label = 'Test_accuracies')\n",
    "plt.legend()\n",
    "plt.xlabel('Number of Neighbors')\n",
    "plt.ylabel('Accuracy')\n",
    "plt.show()"
   ]
  },
  {
   "cell_type": "code",
   "execution_count": 33,
   "id": "717e4ce2",
   "metadata": {},
   "outputs": [
    {
     "name": "stdout",
     "output_type": "stream",
     "text": [
      "Training accuracy: 0.6536731634182908     Testing accuracy: 0.4796380090497738\n"
     ]
    }
   ],
   "source": [
    "#Looking at Accuracy for our final model with n_neighbors = 9\n",
    "knn_smote = KNeighborsClassifier(n_neighbors = 5)\n",
    "knn_smote.fit(X_train_smote, y_train_smote.values.ravel())\n",
    "y_pred_knn_smote = knn_smote.predict(X_test)\n",
    "\n",
    "knn_smote_train_acc = knn_smote.score(X_train_smote, y_train_smote)\n",
    "knn_smote_test_acc = knn_smote.score(X_test, y_test)\n",
    "\n",
    "print('Training accuracy:', knn_smote_train_acc, '    Testing accuracy:', knn_smote_test_acc)"
   ]
  },
  {
   "cell_type": "code",
   "execution_count": 34,
   "id": "76c30d3b",
   "metadata": {},
   "outputs": [
    {
     "data": {
      "text/plain": [
       "<sklearn.metrics._plot.confusion_matrix.ConfusionMatrixDisplay at 0x1b682d698b0>"
      ]
     },
     "execution_count": 34,
     "metadata": {},
     "output_type": "execute_result"
    },
    {
     "data": {
      "image/png": "[encoded data removed]",
      "text/plain": [
       "<Figure size 792x792 with 2 Axes>"
      ]
     },
     "metadata": {
      "needs_background": "light"
     },
     "output_type": "display_data"
    }
   ],
   "source": [
    "knn_smote_cf_matrix = confusion_matrix(y_test, y_pred_knn_smote)\n",
    "cmd = ConfusionMatrixDisplay(knn_smote_cf_matrix, display_labels = knn_smote.classes_)\n",
    "\n",
    "fig, ax = plt.subplots(figsize = (11,11))\n",
    "cmd.plot(ax=ax)"
   ]
  },
  {
   "cell_type": "code",
   "execution_count": 35,
   "id": "7574d414",
   "metadata": {},
   "outputs": [
    {
     "name": "stdout",
     "output_type": "stream",
     "text": [
      "                       precision    recall  f1-score   support\n",
      "\n",
      "            Aircraft        0.42      0.53      0.47        62\n",
      "Environmental issues        0.67      0.55      0.60        58\n",
      "                Other       0.11      0.38      0.17         8\n",
      "    Personnel issues        0.58      0.41      0.48        93\n",
      "\n",
      "             accuracy                           0.48       221\n",
      "            macro avg       0.44      0.47      0.43       221\n",
      "         weighted avg       0.54      0.48      0.50       221\n",
      "\n"
     ]
    }
   ],
   "source": [
    "print(classification_report(y_test, y_pred_knn_smote, target_names = knn_smote.classes_, zero_division = 0))"
   ]
  },
  {
   "cell_type": "code",
   "execution_count": 36,
   "id": "70cb92ae",
   "metadata": {},
   "outputs": [],
   "source": [
    "knn_smote_report = classification_report(y_test, y_pred_knn_smote, target_names = knn_smote.classes_, zero_division = 0, output_dict = True)"
   ]
  },
  {
   "cell_type": "markdown",
   "id": "339eb9e2",
   "metadata": {},
   "source": [
    "**Over Sampled SVM**"
   ]
  },
  {
   "cell_type": "code",
   "execution_count": 37,
   "id": "c5012d01",
   "metadata": {},
   "outputs": [
    {
     "name": "stdout",
     "output_type": "stream",
     "text": [
      "{'C': 100, 'class_weight': {'Aircraft ': 1, 'Environmental issues ': 1, 'Personnel issues ': 1, 'Other': 1}, 'gamma': 0.01}\n"
     ]
    }
   ],
   "source": [
    "# defining parameter range\n",
    "svm_smote_params = {'C': [0.1, 1, 10, 100, 1000], \n",
    "                    'gamma': [10, 1, 0.1, 0.01, 0.001, 0.0001],\n",
    "                    'class_weight': [{'Aircraft ': 1, 'Environmental issues ': 1, 'Personnel issues ':1, 'Other': 1},\n",
    "                        {'Aircraft ': 1, 'Environmental issues ': 1, 'Personnel issues ':1, 'Other': 5},\n",
    "                        {'Aircraft ': 1, 'Environmental issues ': 1, 'Personnel issues ':1, 'Other': 10},\n",
    "                        {'Aircraft ': 2, 'Environmental issues ': 2, 'Personnel issues ':1, 'Other': 2},\n",
    "                        {'Aircraft ': 2, 'Environmental issues ': 2, 'Personnel issues ':1, 'Other': 5},\n",
    "                        'balanced']}\n",
    "  \n",
    "svm_smote_grid = GridSearchCV(SVC(), svm_smote_params)\n",
    "svm_smote_grid.fit(X_train_smote, y_train_smote.values.ravel())\n",
    "print(svm_smote_grid.best_params_)"
   ]
  },
  {
   "cell_type": "code",
   "execution_count": 38,
   "id": "0fc03af7",
   "metadata": {},
   "outputs": [
    {
     "name": "stdout",
     "output_type": "stream",
     "text": [
      "Training accuracy: 0.6461769115442278     Testing accuracy: 0.5475113122171946\n"
     ]
    }
   ],
   "source": [
    "#Looking at Accuracy for our final model with C = 1 and gamma = 0.01\n",
    "svm_smote = SVC(C = 100, gamma = .01, class_weight = {'Aircraft ': 1, 'Environmental issues ': 1, 'Personnel issues ': 1, 'Other': 1})\n",
    "svm_smote.fit(X_train_smote, y_train_smote.values.ravel())\n",
    "y_pred_svm_smote = svm_smote.predict(X_test)\n",
    "\n",
    "svm_smote_train_acc = svm_smote.score(X_train_smote, y_train_smote)\n",
    "svm_smote_test_acc = svm_smote.score(X_test, y_test)\n",
    "\n",
    "print('Training accuracy:', svm_smote_train_acc, '    Testing accuracy:', svm_smote_test_acc)"
   ]
  },
  {
   "cell_type": "code",
   "execution_count": 39,
   "id": "fa3b55e3",
   "metadata": {},
   "outputs": [
    {
     "data": {
      "text/plain": [
       "<sklearn.metrics._plot.confusion_matrix.ConfusionMatrixDisplay at 0x1b68120e880>"
      ]
     },
     "execution_count": 39,
     "metadata": {},
     "output_type": "execute_result"
    },
    {
     "data": {
      "image/png": "[encoded data removed]",
      "text/plain": [
       "<Figure size 792x792 with 2 Axes>"
      ]
     },
     "metadata": {
      "needs_background": "light"
     },
     "output_type": "display_data"
    }
   ],
   "source": [
    "svm_smote_cf_matrix = confusion_matrix(y_test, y_pred_svm_smote)\n",
    "cmd = ConfusionMatrixDisplay(svm_smote_cf_matrix, display_labels = svm_smote.classes_)\n",
    "\n",
    "fig, ax = plt.subplots(figsize = (11,11))\n",
    "cmd.plot(ax=ax)"
   ]
  },
  {
   "cell_type": "code",
   "execution_count": 40,
   "id": "0f4a23b2",
   "metadata": {},
   "outputs": [
    {
     "name": "stdout",
     "output_type": "stream",
     "text": [
      "                       precision    recall  f1-score   support\n",
      "\n",
      "            Aircraft        0.46      0.71      0.56        62\n",
      "Environmental issues        0.70      0.57      0.63        58\n",
      "                Other       0.00      0.00      0.00         8\n",
      "    Personnel issues        0.57      0.47      0.52        93\n",
      "\n",
      "             accuracy                           0.55       221\n",
      "            macro avg       0.43      0.44      0.43       221\n",
      "         weighted avg       0.55      0.55      0.54       221\n",
      "\n"
     ]
    }
   ],
   "source": [
    "print(classification_report(y_test, y_pred_svm_smote, target_names = svm_smote.classes_, zero_division = 0))"
   ]
  },
  {
   "cell_type": "code",
   "execution_count": 41,
   "id": "56bbb28a",
   "metadata": {},
   "outputs": [],
   "source": [
    "svm_smote_report = classification_report(y_test, y_pred_svm_smote, target_names = svm_smote.classes_, zero_division = 0, output_dict = True)"
   ]
  },
  {
   "cell_type": "markdown",
   "id": "970b5b60",
   "metadata": {},
   "source": [
    "**Comparing Models**\n",
    "\n",
    "Want to compare the model's training accuracy, testing accuracy and weighted averages for precision, recall and f1-score."
   ]
  },
  {
   "cell_type": "code",
   "execution_count": 42,
   "id": "0191c60b",
   "metadata": {},
   "outputs": [
    {
     "data": {
      "text/html": [
       "<div>\n",
       "<style scoped>\n",
       "    .dataframe tbody tr th:only-of-type {\n",
       "        vertical-align: middle;\n",
       "    }\n",
       "\n",
       "    .dataframe tbody tr th {\n",
       "        vertical-align: top;\n",
       "    }\n",
       "\n",
       "    .dataframe thead th {\n",
       "        text-align: right;\n",
       "    }\n",
       "</style>\n",
       "<table border=\"1\" class=\"dataframe\">\n",
       "  <thead>\n",
       "    <tr style=\"text-align: right;\">\n",
       "      <th></th>\n",
       "      <th>Model</th>\n",
       "      <th>Training Acc</th>\n",
       "      <th>Testing Acc</th>\n",
       "      <th>Precision</th>\n",
       "      <th>Recall</th>\n",
       "      <th>f1-score</th>\n",
       "    </tr>\n",
       "  </thead>\n",
       "  <tbody>\n",
       "    <tr>\n",
       "      <th>0</th>\n",
       "      <td>RF</td>\n",
       "      <td>0.568093</td>\n",
       "      <td>0.533937</td>\n",
       "      <td>0.523804</td>\n",
       "      <td>0.533937</td>\n",
       "      <td>0.519987</td>\n",
       "    </tr>\n",
       "    <tr>\n",
       "      <th>1</th>\n",
       "      <td>KNN</td>\n",
       "      <td>0.811284</td>\n",
       "      <td>0.506787</td>\n",
       "      <td>0.496050</td>\n",
       "      <td>0.506787</td>\n",
       "      <td>0.498260</td>\n",
       "    </tr>\n",
       "    <tr>\n",
       "      <th>2</th>\n",
       "      <td>SVM</td>\n",
       "      <td>0.550584</td>\n",
       "      <td>0.542986</td>\n",
       "      <td>0.545119</td>\n",
       "      <td>0.542986</td>\n",
       "      <td>0.535635</td>\n",
       "    </tr>\n",
       "    <tr>\n",
       "      <th>3</th>\n",
       "      <td>Oversampled RF</td>\n",
       "      <td>0.734633</td>\n",
       "      <td>0.520362</td>\n",
       "      <td>0.535497</td>\n",
       "      <td>0.520362</td>\n",
       "      <td>0.523450</td>\n",
       "    </tr>\n",
       "    <tr>\n",
       "      <th>4</th>\n",
       "      <td>Oversampled KNN</td>\n",
       "      <td>0.653673</td>\n",
       "      <td>0.479638</td>\n",
       "      <td>0.538317</td>\n",
       "      <td>0.479638</td>\n",
       "      <td>0.496952</td>\n",
       "    </tr>\n",
       "    <tr>\n",
       "      <th>5</th>\n",
       "      <td>Oversampled SVM</td>\n",
       "      <td>0.646177</td>\n",
       "      <td>0.547511</td>\n",
       "      <td>0.553316</td>\n",
       "      <td>0.547511</td>\n",
       "      <td>0.539050</td>\n",
       "    </tr>\n",
       "  </tbody>\n",
       "</table>\n",
       "</div>"
      ],
      "text/plain": [
       "             Model  Training Acc  Testing Acc  Precision    Recall  f1-score\n",
       "0               RF      0.568093     0.533937   0.523804  0.533937  0.519987\n",
       "1              KNN      0.811284     0.506787   0.496050  0.506787  0.498260\n",
       "2              SVM      0.550584     0.542986   0.545119  0.542986  0.535635\n",
       "3   Oversampled RF      0.734633     0.520362   0.535497  0.520362  0.523450\n",
       "4  Oversampled KNN      0.653673     0.479638   0.538317  0.479638  0.496952\n",
       "5  Oversampled SVM      0.646177     0.547511   0.553316  0.547511  0.539050"
      ]
     },
     "execution_count": 42,
     "metadata": {},
     "output_type": "execute_result"
    }
   ],
   "source": [
    "model_data = {'Model': ['RF', 'KNN', 'SVM', 'Oversampled RF', 'Oversampled KNN', 'Oversampled SVM'],\n",
    "             'Training Acc': [rf_train_acc, knn_train_acc, svm_train_acc, rf_smote_train_acc, knn_smote_train_acc, svm_smote_train_acc],\n",
    "             'Testing Acc': [rf_test_acc, knn_test_acc, svm_test_acc, rf_smote_test_acc, knn_smote_test_acc, svm_smote_test_acc],\n",
    "             'Precision': [rf_report['weighted avg']['precision'], knn_report['weighted avg']['precision'], svm_report['weighted avg']['precision'],\n",
    "                          rf_smote_report['weighted avg']['precision'], knn_smote_report['weighted avg']['precision'], svm_smote_report['weighted avg']['precision']],\n",
    "             'Recall': [rf_report['weighted avg']['recall'], knn_report['weighted avg']['recall'], svm_report['weighted avg']['recall'],\n",
    "                       rf_smote_report['weighted avg']['recall'], knn_smote_report['weighted avg']['recall'], svm_smote_report['weighted avg']['recall']],\n",
    "             'f1-score': [rf_report['weighted avg']['f1-score'], knn_report['weighted avg']['f1-score'], svm_report['weighted avg']['f1-score'],\n",
    "                         rf_smote_report['weighted avg']['f1-score'], knn_smote_report['weighted avg']['f1-score'], svm_smote_report['weighted avg']['f1-score']]}\n",
    "\n",
    "#making a dataframe\n",
    "results = pd.DataFrame(model_data)\n",
    "results"
   ]
  },
  {
   "cell_type": "markdown",
   "id": "542c022e",
   "metadata": {},
   "source": [
    "Overall, the Support Vector Machine trained with the SMOTE oversampled data gives the best performance of the three models tried. Oversampling the data did improve all three models.\n",
    "\n",
    "The SVM model that had the best accuracy used the following parameters: C: 100, class_weight: {'Aircraft ': 1, 'Environmental issues ': 1, 'Personnel issues ': 1, 'Other': 1}, gamma: 0.01."
   ]
  }
 ],
 "metadata": {
  "kernelspec": {
   "display_name": "Python 3 (ipykernel)",
   "language": "python",
   "name": "python3"
  },
  "language_info": {
   "codemirror_mode": {
    "name": "ipython",
    "version": 3
   },
   "file_extension": ".py",
   "mimetype": "text/x-python",
   "name": "python",
   "nbconvert_exporter": "python",
   "pygments_lexer": "ipython3",
   "version": "3.9.7"
  }
 },
 "nbformat": 4,
 "nbformat_minor": 5
}
