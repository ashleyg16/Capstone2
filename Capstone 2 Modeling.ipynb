{
 "cells": [
  {
   "cell_type": "markdown",
   "id": "a6bbcd2e",
   "metadata": {},
   "source": [
    "**Capstone 2: Pre-Processing**\n",
    "\n",
    "Problem Statement: The National Transportation Safety Board (NTSB) has an Aviation Accident Database that contains information about civil aviation accidents and incidents that they investigate within the United States, its territories and international waters. For this Project, we will specifically be looking at airplane accidents for the 20 years from 2002 to 2021. The operations included are scheduled Part 121: Air Carrier, which includes most passenger airlines, as well as Part 135: Small Carrier for both commuter and ‘air taxi’ small aircraft. This dataset does not include aircraft accidents where the aircraft involved was amateur built."
   ]
  },
  {
   "cell_type": "markdown",
   "id": "60b54d20",
   "metadata": {},
   "source": [
    "**Modeling**\n",
    "\n",
    "The dataset we're working with is trying to predict which category an accident falls into based on region/location, month, FAR Part number and type of injuries/count. Since we are working with categorical data and I have the labels, I'm going to be using these Supervised Classifcation models to see which one works best:\n",
    "\n",
    "Random Forest <br> K-Nearest Neighbor <br> Support Vector Machine"
   ]
  },
  {
   "cell_type": "markdown",
   "id": "3619585f",
   "metadata": {},
   "source": [
    "**Initial Steps**"
   ]
  },
  {
   "cell_type": "code",
   "execution_count": 1,
   "id": "4417096e",
   "metadata": {},
   "outputs": [],
   "source": [
    "import pandas as pd\n",
    "import numpy as np\n",
    "import matplotlib.pyplot as plt\n",
    "import seaborn as sns"
   ]
  },
  {
   "cell_type": "code",
   "execution_count": 2,
   "id": "cb6ee17e",
   "metadata": {},
   "outputs": [],
   "source": [
    "X_train = pd.read_excel('data/X_train.xlsx')\n",
    "X_test = pd.read_excel('data/X_test.xlsx')\n",
    "y_train = pd.read_excel('data/y_train.xlsx')\n",
    "y_test = pd.read_excel('data/y_test.xlsx')"
   ]
  },
  {
   "cell_type": "code",
   "execution_count": 8,
   "id": "82e4b184",
   "metadata": {},
   "outputs": [
    {
     "data": {
      "text/html": [
       "<div>\n",
       "<style scoped>\n",
       "    .dataframe tbody tr th:only-of-type {\n",
       "        vertical-align: middle;\n",
       "    }\n",
       "\n",
       "    .dataframe tbody tr th {\n",
       "        vertical-align: top;\n",
       "    }\n",
       "\n",
       "    .dataframe thead th {\n",
       "        text-align: right;\n",
       "    }\n",
       "</style>\n",
       "<table border=\"1\" class=\"dataframe\">\n",
       "  <thead>\n",
       "    <tr style=\"text-align: right;\">\n",
       "      <th></th>\n",
       "      <th>Failure_Category</th>\n",
       "    </tr>\n",
       "  </thead>\n",
       "  <tbody>\n",
       "    <tr>\n",
       "      <th>0</th>\n",
       "      <td>Personnel issues</td>\n",
       "    </tr>\n",
       "    <tr>\n",
       "      <th>1</th>\n",
       "      <td>Environmental issues</td>\n",
       "    </tr>\n",
       "    <tr>\n",
       "      <th>2</th>\n",
       "      <td>Aircraft</td>\n",
       "    </tr>\n",
       "    <tr>\n",
       "      <th>3</th>\n",
       "      <td>Personnel issues</td>\n",
       "    </tr>\n",
       "    <tr>\n",
       "      <th>4</th>\n",
       "      <td>Environmental issues</td>\n",
       "    </tr>\n",
       "    <tr>\n",
       "      <th>...</th>\n",
       "      <td>...</td>\n",
       "    </tr>\n",
       "    <tr>\n",
       "      <th>509</th>\n",
       "      <td>Aircraft</td>\n",
       "    </tr>\n",
       "    <tr>\n",
       "      <th>510</th>\n",
       "      <td>Aircraft</td>\n",
       "    </tr>\n",
       "    <tr>\n",
       "      <th>511</th>\n",
       "      <td>Environmental issues</td>\n",
       "    </tr>\n",
       "    <tr>\n",
       "      <th>512</th>\n",
       "      <td>Personnel issues</td>\n",
       "    </tr>\n",
       "    <tr>\n",
       "      <th>513</th>\n",
       "      <td>Environmental issues</td>\n",
       "    </tr>\n",
       "  </tbody>\n",
       "</table>\n",
       "<p>514 rows × 1 columns</p>\n",
       "</div>"
      ],
      "text/plain": [
       "          Failure_Category\n",
       "0        Personnel issues \n",
       "1    Environmental issues \n",
       "2                Aircraft \n",
       "3        Personnel issues \n",
       "4    Environmental issues \n",
       "..                     ...\n",
       "509              Aircraft \n",
       "510              Aircraft \n",
       "511  Environmental issues \n",
       "512      Personnel issues \n",
       "513  Environmental issues \n",
       "\n",
       "[514 rows x 1 columns]"
      ]
     },
     "execution_count": 8,
     "metadata": {},
     "output_type": "execute_result"
    }
   ],
   "source": [
    "y_train"
   ]
  },
  {
   "cell_type": "markdown",
   "id": "336753c7",
   "metadata": {},
   "source": [
    "**Looking at the difference models compared to each other**\n",
    "\n",
    "Want to see in general, how these different models are going to compare to each other with this data. This will use the default parameters for each model. Will then go into each model and do train/test. Followed by hyperparameter tuning for the best one or two models."
   ]
  },
  {
   "cell_type": "code",
   "execution_count": 3,
   "id": "dc06a03e",
   "metadata": {},
   "outputs": [],
   "source": [
    "from sklearn.model_selection import KFold\n",
    "\n",
    "from sklearn.ensemble import RandomForestClassifier\n",
    "from sklearn.neighbors import KNeighborsClassifier\n",
    "from sklearn.svm import SVC\n",
    "\n",
    "from sklearn.model_selection import cross_val_score\n",
    "from sklearn.metrics import confusion_matrix"
   ]
  },
  {
   "cell_type": "code",
   "execution_count": 7,
   "id": "8a6ecb0c",
   "metadata": {},
   "outputs": [
    {
     "data": {
      "image/png": "[encoded data removed]",
      "text/plain": [
       "<Figure size 432x288 with 1 Axes>"
      ]
     },
     "metadata": {
      "needs_background": "light"
     },
     "output_type": "display_data"
    }
   ],
   "source": [
    "models = {'Random Forest': RandomForestClassifier(), 'KNN': KNeighborsClassifier(), 'SVM': SVC()}\n",
    "results = []\n",
    "for model in models.values():\n",
    "    kf = KFold(n_splits = 6, random_state = 42, shuffle = True)\n",
    "    cv_results = cross_val_score(model, X_train, y_train.values.ravel(), cv=kf)\n",
    "    results.append(cv_results)\n",
    "    \n",
    "plt.boxplot(results, labels = models.keys())\n",
    "plt.show()"
   ]
  },
  {
   "cell_type": "markdown",
   "id": "d9576946",
   "metadata": {},
   "source": [
    "**Random Forest**"
   ]
  },
  {
   "cell_type": "code",
   "execution_count": 10,
   "id": "c896ae4f",
   "metadata": {},
   "outputs": [],
   "source": [
    "#Fit then predict the Random Forest Model\n",
    "rf = RandomForestClassifier()\n",
    "rf.fit(X_train, y_train.values.ravel())\n",
    "y_pred = rf.predict(X_test)"
   ]
  },
  {
   "cell_type": "code",
   "execution_count": null,
   "id": "e3a4e35b",
   "metadata": {},
   "outputs": [],
   "source": [
    "#KNN is very dependent on how many neighbors you tell it to use. So going to look at that first\n",
    "neighbors = np.arange(1,20)\n",
    "train_acc = {}\n",
    "test_acc = {}\n",
    "\n",
    "for n in neighbors:\n",
    "    knn = KNeighborsClassifier(n_neighbors = n)\n",
    "    knn.fit(X_train, y_train.values.ravel())\n",
    "    train_acc[n] = knn.score(X_train, y_train)\n",
    "    test_acc[n] = knn.score(X_test, y_test)"
   ]
  },
  {
   "cell_type": "code",
   "execution_count": 12,
   "id": "950f861e",
   "metadata": {},
   "outputs": [
    {
     "name": "stdout",
     "output_type": "stream",
     "text": [
      "[[27  5  0  0 30]\n",
      " [12 30  1  0 15]\n",
      " [ 1  0  1  0  5]\n",
      " [ 1  0  0  0  0]\n",
      " [24 13  0  0 56]]\n",
      "1.0 0.5158371040723982\n"
     ]
    }
   ],
   "source": [
    "#Confusion matrix and accuracy\n",
    "cf_matrix = confusion_matrix(y_test, y_pred)\n",
    "train_acc_rf = rf.score(X_train, y_train)\n",
    "test_acc_rf = rf.score(X_test, y_test)\n",
    "print(cf_matrix)\n",
    "print(train_acc_rf, test_acc_rf)"
   ]
  },
  {
   "cell_type": "markdown",
   "id": "5afa0ce9",
   "metadata": {},
   "source": [
    "**K-Nearest Neighbor**"
   ]
  },
  {
   "cell_type": "code",
   "execution_count": 18,
   "id": "a09e245e",
   "metadata": {},
   "outputs": [],
   "source": [
    "#KNN is very dependent on how many neighbors you tell it to use. So going to look at that first\n",
    "neighbors = np.arange(1,20)\n",
    "train_acc = {}\n",
    "test_acc = {}\n",
    "\n",
    "for n in neighbors:\n",
    "    knn = KNeighborsClassifier(n_neighbors = n)\n",
    "    knn.fit(X_train, y_train.values.ravel())\n",
    "    train_acc[n] = knn.score(X_train, y_train)\n",
    "    test_acc[n] = knn.score(X_test, y_test)"
   ]
  },
  {
   "cell_type": "code",
   "execution_count": 19,
   "id": "891ec5fe",
   "metadata": {},
   "outputs": [
    {
     "data": {
      "image/png": "[encoded data removed]",
      "text/plain": [
       "<Figure size 432x288 with 1 Axes>"
      ]
     },
     "metadata": {
      "needs_background": "light"
     },
     "output_type": "display_data"
    }
   ],
   "source": [
    "#Plotting the accuracies\n",
    "plt.title('KNN: Accuracy vs Number of Neighbors')\n",
    "plt.plot(neighbors, train_acc.values(), label = 'Training_accuracies')\n",
    "plt.plot(neighbors, test_acc.values(), label = 'Test_accuracies')\n",
    "plt.legend()\n",
    "plt.xlabel('Number of Neighbors')\n",
    "plt.ylabel('Accuracy')\n",
    "plt.show()"
   ]
  },
  {
   "cell_type": "code",
   "execution_count": 22,
   "id": "7eb09646",
   "metadata": {},
   "outputs": [],
   "source": [
    "knn = KNeighborsClassifier(n_neighbors = 5)\n",
    "knn.fit(X_train, y_train.values.ravel())\n",
    "y_pred = knn.predict(X_test)"
   ]
  },
  {
   "cell_type": "code",
   "execution_count": 23,
   "id": "fd447950",
   "metadata": {},
   "outputs": [
    {
     "name": "stdout",
     "output_type": "stream",
     "text": [
      "[[31 14  0  0 17]\n",
      " [24 15  0  0 19]\n",
      " [ 6  0  0  0  1]\n",
      " [ 1  0  0  0  0]\n",
      " [31 21  0  0 41]]\n",
      "0.5680933852140078 0.3936651583710407\n"
     ]
    }
   ],
   "source": [
    "#Confusion matrix and accuracy\n",
    "cf_matrix = confusion_matrix(y_test, y_pred)\n",
    "train_acc_knn = knn.score(X_train, y_train)\n",
    "test_acc_knn = knn.score(X_test, y_test)\n",
    "print(cf_matrix)\n",
    "print(train_acc_knn, test_acc_knn)"
   ]
  },
  {
   "cell_type": "markdown",
   "id": "7db917f5",
   "metadata": {},
   "source": [
    "**Support Vector Machine**"
   ]
  },
  {
   "cell_type": "code",
   "execution_count": 20,
   "id": "2808c447",
   "metadata": {},
   "outputs": [],
   "source": [
    "#Fit then predict SVM model\n",
    "svm = SVC()\n",
    "svm.fit(X_train, y_train.values.ravel())\n",
    "y_pred = svm.predict(X_test)"
   ]
  },
  {
   "cell_type": "code",
   "execution_count": 21,
   "id": "7fb5a4d1",
   "metadata": {},
   "outputs": [
    {
     "name": "stdout",
     "output_type": "stream",
     "text": [
      "[[ 0  0  0  0 62]\n",
      " [ 0  0  0  0 58]\n",
      " [ 0  0  0  0  7]\n",
      " [ 0  0  0  0  1]\n",
      " [ 0  0  0  0 93]]\n",
      "0.42217898832684825 0.42081447963800905\n"
     ]
    }
   ],
   "source": [
    "#Confusion matrix and accuracy\n",
    "cf_matrix = confusion_matrix(y_test, y_pred)\n",
    "train_acc_svm = svm.score(X_train, y_train)\n",
    "test_acc_svm = svm.score(X_test, y_test)\n",
    "print(cf_matrix)\n",
    "print(train_acc_svm, test_acc_svm)"
   ]
  },
  {
   "cell_type": "markdown",
   "id": "9bc23e70",
   "metadata": {},
   "source": [
    "**Gradient Boost**"
   ]
  },
  {
   "cell_type": "code",
   "execution_count": null,
   "id": "d8341175",
   "metadata": {},
   "outputs": [],
   "source": []
  }
 ],
 "metadata": {
  "kernelspec": {
   "display_name": "Python 3 (ipykernel)",
   "language": "python",
   "name": "python3"
  },
  "language_info": {
   "codemirror_mode": {
    "name": "ipython",
    "version": 3
   },
   "file_extension": ".py",
   "mimetype": "text/x-python",
   "name": "python",
   "nbconvert_exporter": "python",
   "pygments_lexer": "ipython3",
   "version": "3.9.7"
  }
 },
 "nbformat": 4,
 "nbformat_minor": 5
}
