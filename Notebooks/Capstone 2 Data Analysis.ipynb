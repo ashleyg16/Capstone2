{
 "cells": [
  {
   "cell_type": "markdown",
   "id": "b9fa9c32",
   "metadata": {},
   "source": [
    "**Capstone 2: Data Wrangling**\n",
    "\n",
    "The National Transportation Safety Board (NTSB) has an Aviation Accident Database that contains information about civil aviation accidents and incidents that they investigate within the United States, its territories and international waters. For this Project, we will specifically be looking at airplane accidents for the 20 years from 2002 to 2021. The operations included are scheduled Part 121: Air Carrier, which includes most passenger airlines, as well as Part 135: Small Carrier for both commuter and ‘air taxi’ small aircraft. This dataset does not include aircraft accidents where the aircraft involved was amateur built."
   ]
  },
  {
   "cell_type": "markdown",
   "id": "09f2df85",
   "metadata": {},
   "source": [
    "**Data Collection**"
   ]
  },
  {
   "cell_type": "code",
   "execution_count": 1,
   "id": "f6591ed7",
   "metadata": {},
   "outputs": [],
   "source": [
    "import pandas as pd\n",
    "import matplotlib.pyplot as plt\n",
    "import seaborn as sns\n",
    "import missingno as msno"
   ]
  },
  {
   "cell_type": "markdown",
   "id": "50f050aa",
   "metadata": {},
   "source": [
    "Loading data from excel files and turning into dataframes."
   ]
  },
  {
   "cell_type": "code",
   "execution_count": 2,
   "id": "15e6afa6",
   "metadata": {},
   "outputs": [],
   "source": [
    "part_121_file = 'data_raw/cases_FAR_p121/cases_FAR_p121.xlsx'\n",
    "part_121 = pd.ExcelFile(part_121_file)\n",
    "part_135_file = 'data_raw/cases_FAR_p135/cases_FAR_p135.xlsx'\n",
    "part_135 = pd.ExcelFile(part_135_file)"
   ]
  },
  {
   "cell_type": "code",
   "execution_count": 3,
   "id": "fea9219e",
   "metadata": {},
   "outputs": [],
   "source": [
    "df_p121 = part_121.parse(0)\n",
    "df_p135 = part_135.parse(0)"
   ]
  },
  {
   "cell_type": "code",
   "execution_count": 4,
   "id": "e7f439ea",
   "metadata": {},
   "outputs": [],
   "source": [
    "#print(df_p121.head())"
   ]
  },
  {
   "cell_type": "code",
   "execution_count": 5,
   "id": "5a31bfa1",
   "metadata": {},
   "outputs": [],
   "source": [
    "#print(df_p135.head())"
   ]
  },
  {
   "cell_type": "markdown",
   "id": "ac1f0026",
   "metadata": {},
   "source": [
    "Adding a category column to each file to mark if the data is part 121 or 135."
   ]
  },
  {
   "cell_type": "code",
   "execution_count": 6,
   "id": "6deb8f6f",
   "metadata": {},
   "outputs": [],
   "source": [
    "df_p121['FAR Part'] = '121'\n",
    "df_p135['FAR Part'] = '135'"
   ]
  },
  {
   "cell_type": "code",
   "execution_count": 7,
   "id": "d6353824",
   "metadata": {},
   "outputs": [
    {
     "name": "stdout",
     "output_type": "stream",
     "text": [
      "       NtsbNo EventType    Mkey             EventDate      City    State  \\\n",
      "0  ERA22LA097       ACC  104454  2021-12-29T16:22:00Z  Marathon  Florida   \n",
      "1  CEN22FA081       ACC  104432  2021-12-21T09:26:00Z  Fulshear    Texas   \n",
      "\n",
      "         Country ReportNo             N#  HasSafetyRec  ...     ReportType  \\\n",
      "0  United States      NaN         N1596U         False  ...  DirectorBrief   \n",
      "1  United States      NaN  N1116N, UNREG         False  ...  DirectorBrief   \n",
      "\n",
      "  OriginalPublishedDate HighestInjuryLevel FatalInjuryCount  \\\n",
      "0                   NaN            Serious                0   \n",
      "1                   NaN              Fatal                2   \n",
      "\n",
      "   SeriousInjuryCount  MinorInjuryCount  ProbableCause Findings  \\\n",
      "0                   1                 2            NaN      NaN   \n",
      "1                   0                 0            NaN      NaN   \n",
      "\n",
      "                                       DocketUrl FAR Part  \n",
      "0  https://data.ntsb.gov/Docket?ProjectID=104454      135  \n",
      "1  https://data.ntsb.gov/Docket?ProjectID=104432      135  \n",
      "\n",
      "[2 rows x 21 columns]\n"
     ]
    }
   ],
   "source": [
    "#checking that adding column worked properly\n",
    "print(df_p135.head(2))"
   ]
  },
  {
   "cell_type": "markdown",
   "id": "9eb42849",
   "metadata": {},
   "source": [
    "Merging the datframes."
   ]
  },
  {
   "cell_type": "code",
   "execution_count": 8,
   "id": "7377179f",
   "metadata": {},
   "outputs": [
    {
     "name": "stdout",
     "output_type": "stream",
     "text": [
      "Index(['NtsbNo', 'EventType', 'Mkey', 'EventDate', 'City', 'State', 'Country',\n",
      "       'ReportNo', 'N#', 'HasSafetyRec', 'Mode', 'ReportType',\n",
      "       'OriginalPublishedDate', 'HighestInjuryLevel', 'FatalInjuryCount',\n",
      "       'SeriousInjuryCount', 'MinorInjuryCount', 'ProbableCause', 'Findings',\n",
      "       'DocketUrl', 'FAR Part'],\n",
      "      dtype='object')\n",
      "Index(['NtsbNo', 'EventType', 'Mkey', 'EventDate', 'City', 'State', 'Country',\n",
      "       'ReportNo', 'N#', 'HasSafetyRec', 'Mode', 'ReportType',\n",
      "       'OriginalPublishedDate', 'HighestInjuryLevel', 'FatalInjuryCount',\n",
      "       'SeriousInjuryCount', 'MinorInjuryCount', 'ProbableCause', 'Findings',\n",
      "       'DocketUrl', 'FAR Part'],\n",
      "      dtype='object')\n"
     ]
    }
   ],
   "source": [
    "#verify that they have the same column names\n",
    "print(df_p121.columns)\n",
    "print(df_p135.columns)"
   ]
  },
  {
   "cell_type": "code",
   "execution_count": 9,
   "id": "327c68c2",
   "metadata": {},
   "outputs": [
    {
     "data": {
      "text/plain": [
       "Index([], dtype='object')"
      ]
     },
     "execution_count": 9,
     "metadata": {},
     "output_type": "execute_result"
    }
   ],
   "source": [
    "df_p121.columns.difference(df_p135.columns)"
   ]
  },
  {
   "cell_type": "code",
   "execution_count": 10,
   "id": "1de12499",
   "metadata": {},
   "outputs": [
    {
     "data": {
      "text/plain": [
       "Index([], dtype='object')"
      ]
     },
     "execution_count": 10,
     "metadata": {},
     "output_type": "execute_result"
    }
   ],
   "source": [
    "df_p135.columns.difference(df_p121.columns)"
   ]
  },
  {
   "cell_type": "markdown",
   "id": "b2c3a65a",
   "metadata": {},
   "source": [
    "They both have the same column names, as expected. Now concatenating the dataframes."
   ]
  },
  {
   "cell_type": "code",
   "execution_count": 11,
   "id": "d1d7a0d8",
   "metadata": {},
   "outputs": [
    {
     "name": "stdout",
     "output_type": "stream",
     "text": [
      "          NtsbNo EventType   Mkey             EventDate             City  \\\n",
      "1301  MIA02FA048       ACC  53983  2002-01-01T19:02:00Z        Hollywood   \n",
      "1300  NYC02LA047       ACC  53991  2002-01-08T06:26:00Z        Covington   \n",
      "1299  ANC02FA010       ACC  54054  2002-01-15T09:20:00Z           HAINES   \n",
      "1298  ATL02WA041       ACC  54066  2002-01-18T05:00:00Z   British Virgin   \n",
      "542   NYC02LA056       ACC  54107  2002-01-20T08:15:00Z           Dulles   \n",
      "541   CHI02LA069       ACC  54074  2002-01-24T15:00:00Z     Indianapolis   \n",
      "1297  IAD02LA027       ACC  54072  2002-01-24T20:30:00Z       Waterville   \n",
      "1296  ANC02LA012       ACC  54171  2002-02-01T14:56:00Z         Ouzinkie   \n",
      "1295  ANC02FA014       ACC  54172  2002-02-04T11:42:00Z           Bethel   \n",
      "540   MIA02WA063       ACC  54240  2002-02-16T14:10:00Z  Paradise Island   \n",
      "\n",
      "         State                 Country ReportNo      N#  HasSafetyRec  ...  \\\n",
      "1301   Florida           United States      NaN  N3525Y         False  ...   \n",
      "1300  Kentucky           United States      NaN  N556UP         False  ...   \n",
      "1299    Alaska           United States      NaN  N30004         False  ...   \n",
      "1298       NaN  British Virgin Islands      NaN  N616GL         False  ...   \n",
      "542   Virginia           United States      NaN  N837AT         False  ...   \n",
      "541    Indiana           United States      NaN  N754NW         False  ...   \n",
      "1297     Maine           United States      NaN    N8RQ         False  ...   \n",
      "1296    Alaska           United States      NaN   N27MR         False  ...   \n",
      "1295    Alaska           United States      NaN  N756HL         False  ...   \n",
      "540        NaN                 Bahamas      NaN  N130FB         False  ...   \n",
      "\n",
      "         ReportType OriginalPublishedDate HighestInjuryLevel FatalInjuryCount  \\\n",
      "1301  DirectorBrief  2004-04-28T04:00:00Z              Fatal              1.0   \n",
      "1300  DirectorBrief  2003-05-01T04:00:00Z              Minor              0.0   \n",
      "1299  DirectorBrief  2003-01-16T05:00:00Z              Fatal              1.0   \n",
      "1298           None                   NaN               None              0.0   \n",
      "542   DirectorBrief  2003-04-17T04:00:00Z               None              0.0   \n",
      "541   DirectorBrief  2002-08-28T04:00:00Z            Serious              0.0   \n",
      "1297  DirectorBrief  2003-08-26T04:00:00Z              Minor              0.0   \n",
      "1296  DirectorBrief  2002-06-04T04:00:00Z               None              0.0   \n",
      "1295  DirectorBrief  2003-04-29T04:00:00Z              Fatal              1.0   \n",
      "540            None                   NaN               None              0.0   \n",
      "\n",
      "      SeriousInjuryCount  MinorInjuryCount  \\\n",
      "1301                 4.0               0.0   \n",
      "1300                 0.0               1.0   \n",
      "1299                 0.0               0.0   \n",
      "1298                 0.0               0.0   \n",
      "542                  0.0               0.0   \n",
      "541                  1.0               0.0   \n",
      "1297                 0.0               1.0   \n",
      "1296                 0.0               0.0   \n",
      "1295                 0.0               0.0   \n",
      "540                  0.0               0.0   \n",
      "\n",
      "                                          ProbableCause Findings  \\\n",
      "1301  The pilot's inadequate planning for a Title 14...      NaN   \n",
      "1300  the tug driver's inadequate visual lookout whi...      NaN   \n",
      "1299  The pilot's continued VFR flight into instrume...      NaN   \n",
      "1298                                                NaN      NaN   \n",
      "542   The lack of direction from the operator on how...      NaN   \n",
      "541   The passenger fell off the side of the slide d...      NaN   \n",
      "1297  The pilot's improper decision to attempt a tak...      NaN   \n",
      "1296  The pilot's selection of unsuitable terrain fo...      NaN   \n",
      "1295  The pilot's continued VFR flight into instrume...      NaN   \n",
      "540                                                 NaN      NaN   \n",
      "\n",
      "                                         DocketUrl FAR Part  \n",
      "1301  https://data.ntsb.gov/Docket?ProjectID=53983      135  \n",
      "1300  https://data.ntsb.gov/Docket?ProjectID=53991      135  \n",
      "1299  https://data.ntsb.gov/Docket?ProjectID=54054      135  \n",
      "1298  https://data.ntsb.gov/Docket?ProjectID=54066      135  \n",
      "542   https://data.ntsb.gov/Docket?ProjectID=54107      121  \n",
      "541   https://data.ntsb.gov/Docket?ProjectID=54074      121  \n",
      "1297  https://data.ntsb.gov/Docket?ProjectID=54072      135  \n",
      "1296  https://data.ntsb.gov/Docket?ProjectID=54171      135  \n",
      "1295  https://data.ntsb.gov/Docket?ProjectID=54172      135  \n",
      "540   https://data.ntsb.gov/Docket?ProjectID=54240      121  \n",
      "\n",
      "[10 rows x 21 columns]\n",
      "(1302, 21)\n"
     ]
    }
   ],
   "source": [
    "df_flights = pd.concat([df_p121, df_p135], ignore_index = True)\n",
    "df_flights = df_flights.sort_values('EventDate')\n",
    "print(df_flights.head(10))\n",
    "#also want to check the dataframe shape to get number of rows\n",
    "print(df_flights.shape)"
   ]
  },
  {
   "cell_type": "markdown",
   "id": "c6a8918c",
   "metadata": {},
   "source": [
    "Seeing both FAR part numbers, and EventDate in the correct order.\n",
    "The data frame has 1302 rows and 21 columns"
   ]
  },
  {
   "cell_type": "markdown",
   "id": "81e960de",
   "metadata": {},
   "source": [
    "**Data Definition**"
   ]
  },
  {
   "cell_type": "markdown",
   "id": "c1b53e73",
   "metadata": {},
   "source": [
    "First want to make sure the names of the columns relate to the data in them, and that the types of data in the column makes sense."
   ]
  },
  {
   "cell_type": "code",
   "execution_count": 12,
   "id": "16c9789c",
   "metadata": {},
   "outputs": [
    {
     "name": "stdout",
     "output_type": "stream",
     "text": [
      "<class 'pandas.core.frame.DataFrame'>\n",
      "Int64Index: 1302 entries, 1301 to 0\n",
      "Data columns (total 21 columns):\n",
      " #   Column                 Non-Null Count  Dtype  \n",
      "---  ------                 --------------  -----  \n",
      " 0   NtsbNo                 1302 non-null   object \n",
      " 1   EventType              1302 non-null   object \n",
      " 2   Mkey                   1302 non-null   int64  \n",
      " 3   EventDate              1302 non-null   object \n",
      " 4   City                   1302 non-null   object \n",
      " 5   State                  1235 non-null   object \n",
      " 6   Country                1298 non-null   object \n",
      " 7   ReportNo               29 non-null     object \n",
      " 8   N#                     1302 non-null   object \n",
      " 9   HasSafetyRec           1302 non-null   bool   \n",
      " 10  Mode                   1302 non-null   object \n",
      " 11  ReportType             1302 non-null   object \n",
      " 12  OriginalPublishedDate  1212 non-null   object \n",
      " 13  HighestInjuryLevel     1298 non-null   object \n",
      " 14  FatalInjuryCount       1299 non-null   float64\n",
      " 15  SeriousInjuryCount     1299 non-null   float64\n",
      " 16  MinorInjuryCount       1299 non-null   float64\n",
      " 17  ProbableCause          1212 non-null   object \n",
      " 18  Findings               753 non-null    object \n",
      " 19  DocketUrl              1302 non-null   object \n",
      " 20  FAR Part               1302 non-null   object \n",
      "dtypes: bool(1), float64(3), int64(1), object(16)\n",
      "memory usage: 214.9+ KB\n"
     ]
    }
   ],
   "source": [
    "#again looking at columns, but this time in relation to data type it contains\n",
    "df_flights.info()"
   ]
  },
  {
   "cell_type": "markdown",
   "id": "4a2601a6",
   "metadata": {},
   "source": [
    "FAR Part should be category, and we want 'Findings' to be a string"
   ]
  },
  {
   "cell_type": "code",
   "execution_count": 13,
   "id": "461336fa",
   "metadata": {},
   "outputs": [],
   "source": [
    "#need to change the 'FAR Part' column to category\n",
    "df_flights = df_flights.astype({'FAR Part':'category', 'Findings':'string'})"
   ]
  },
  {
   "cell_type": "markdown",
   "id": "0e65d605",
   "metadata": {},
   "source": [
    "Already seeing an issue with this data. Specifically, the column we are most interested in is 'Findings' since those entries are structured in a specific format. Want to look into what is causing the missing values."
   ]
  },
  {
   "cell_type": "code",
   "execution_count": 14,
   "id": "1d9b03c5",
   "metadata": {},
   "outputs": [
    {
     "name": "stdout",
     "output_type": "stream",
     "text": [
      "712\n"
     ]
    },
    {
     "data": {
      "text/plain": [
       "<AxesSubplot:>"
      ]
     },
     "execution_count": 14,
     "metadata": {},
     "output_type": "execute_result"
    },
    {
     "data": {
      "image/png": "[encoded data removed]",
      "text/plain": [
       "<Figure size 1800x720 with 2 Axes>"
      ]
     },
     "metadata": {
      "needs_background": "light"
     },
     "output_type": "display_data"
    }
   ],
   "source": [
    "print(df_flights.duplicated(subset = 'Findings').sum())\n",
    "\n",
    "#visualize missing matrix\n",
    "msno.matrix(df_flights)"
   ]
  },
  {
   "cell_type": "markdown",
   "id": "c4ff4726",
   "metadata": {},
   "source": [
    "This dataset is sorted by date, with earlier dates at the top. Looking at the matrix, it seems that earlier accidents don't have their probable causes transfered into the Findings scructure. Taking a look at the raw excel files, the Findings column is only filled out starting 01/01/2008. Deleting data up to 2008 would still leave us with 13 years of accident findings. This would allow us to have a good amount of data without having to create a long list of search terms for the Probably Cause column which doesn't have much structure nor is required to contain key words. Working off of 'Probable Cause' vs 'Findings' would lead to possibly missing accident causes because of the use of specific techincal causes instead of a generalized Finding.\n",
    "\n",
    "Deciding to proceed with the 'Findings' column with the loss of pre-2008 data. Will do that in the 'Data Cleaning' section below."
   ]
  },
  {
   "cell_type": "markdown",
   "id": "e6f646eb",
   "metadata": {},
   "source": [
    "Looking at specific columns, Report number has very few values and the informaiton is not relevant, so the column can be deleted. Will also delete Report Type and docket url. Orginal publishing date shows us that the missing 'Findings' information for the most recent accidents cooresponds to the report not having been made yet, so I'm comfortable removing the later rows without Findings data as well. "
   ]
  },
  {
   "cell_type": "markdown",
   "id": "880126f4",
   "metadata": {},
   "source": [
    "**Data Cleaning**\n",
    "\n",
    "First deleting columns: 'ReportNo', 'ReportType' and 'DocketUrl'"
   ]
  },
  {
   "cell_type": "code",
   "execution_count": 15,
   "id": "4e6907c8",
   "metadata": {},
   "outputs": [
    {
     "data": {
      "text/plain": [
       "Index(['NtsbNo', 'EventType', 'Mkey', 'EventDate', 'City', 'State', 'Country',\n",
       "       'ReportNo', 'N#', 'HasSafetyRec', 'Mode', 'ReportType',\n",
       "       'OriginalPublishedDate', 'HighestInjuryLevel', 'FatalInjuryCount',\n",
       "       'SeriousInjuryCount', 'MinorInjuryCount', 'ProbableCause', 'Findings',\n",
       "       'DocketUrl', 'FAR Part'],\n",
       "      dtype='object')"
      ]
     },
     "execution_count": 15,
     "metadata": {},
     "output_type": "execute_result"
    }
   ],
   "source": [
    "df_flights.columns"
   ]
  },
  {
   "cell_type": "code",
   "execution_count": 16,
   "id": "6de2a421",
   "metadata": {},
   "outputs": [
    {
     "data": {
      "text/plain": [
       "Index(['NtsbNo', 'EventType', 'Mkey', 'EventDate', 'City', 'State', 'Country',\n",
       "       'N#', 'HasSafetyRec', 'Mode', 'OriginalPublishedDate',\n",
       "       'HighestInjuryLevel', 'FatalInjuryCount', 'SeriousInjuryCount',\n",
       "       'MinorInjuryCount', 'ProbableCause', 'Findings', 'FAR Part'],\n",
       "      dtype='object')"
      ]
     },
     "execution_count": 16,
     "metadata": {},
     "output_type": "execute_result"
    }
   ],
   "source": [
    "df_flights = df_flights.drop(['ReportNo', 'ReportType', 'DocketUrl'], axis = 1)\n",
    "df_flights.columns"
   ]
  },
  {
   "cell_type": "markdown",
   "id": "18cd083e",
   "metadata": {},
   "source": [
    "Findings column is missing in rows prior to 2008 and later where the reports have not yet been made. These rows will not be useful since the cause of the accident is what we are looking at. So making new dataframe without those rows, and storing the removed rows in a different dataframe just in case we need them later (doubtful)."
   ]
  },
  {
   "cell_type": "code",
   "execution_count": 17,
   "id": "089c106e",
   "metadata": {},
   "outputs": [],
   "source": [
    "df_flights_miss = df_flights[df_flights['Findings'].isna()]\n",
    "df_flights = df_flights[~df_flights['Findings'].isna()]"
   ]
  },
  {
   "cell_type": "code",
   "execution_count": 18,
   "id": "59a071da",
   "metadata": {},
   "outputs": [
    {
     "name": "stdout",
     "output_type": "stream",
     "text": [
      "False\n"
     ]
    }
   ],
   "source": [
    "#check for missing values\n",
    "print(df_flights['Findings'].isna().any())"
   ]
  },
  {
   "cell_type": "code",
   "execution_count": 19,
   "id": "0790ab44",
   "metadata": {},
   "outputs": [
    {
     "name": "stdout",
     "output_type": "stream",
     "text": [
      "(753, 18)\n"
     ]
    }
   ],
   "source": [
    "#seeing shape of dataframe now\n",
    "print(df_flights.shape)"
   ]
  },
  {
   "cell_type": "markdown",
   "id": "e9e0dcd6",
   "metadata": {},
   "source": [
    "753 rows is exactly what was expected.\n",
    "Now going to make sure we have all unique entries. 'NtsbNo' column contains the unique NTSB case number for each accident. Verify that each row is unique."
   ]
  },
  {
   "cell_type": "code",
   "execution_count": 20,
   "id": "3ab8c1d4",
   "metadata": {},
   "outputs": [
    {
     "name": "stdout",
     "output_type": "stream",
     "text": [
      "0\n"
     ]
    }
   ],
   "source": [
    "print(df_flights.duplicated(subset = 'NtsbNo').sum())"
   ]
  },
  {
   "cell_type": "markdown",
   "id": "f75cb855",
   "metadata": {},
   "source": [
    "Perfect, all row entries are unique."
   ]
  },
  {
   "cell_type": "markdown",
   "id": "c7780284",
   "metadata": {},
   "source": [
    "Now turning attention specifically to the 'Findings' column."
   ]
  },
  {
   "cell_type": "code",
   "execution_count": 21,
   "id": "daa095d6",
   "metadata": {},
   "outputs": [
    {
     "data": {
      "text/plain": [
       "1020    Aircraft - Aircraft structures - Doors - Cargo...\n",
       "349     Personnel issues - Psychological - Attention/m...\n",
       "348     Environmental issues - Conditions/weather/phen...\n",
       "1019    Personnel issues - Psychological - Perception/...\n",
       "1018    Environmental issues - Physical environment - ...\n",
       "Name: Findings, dtype: string"
      ]
     },
     "execution_count": 21,
     "metadata": {},
     "output_type": "execute_result"
    }
   ],
   "source": [
    "df_flights['Findings'].head()"
   ]
  },
  {
   "cell_type": "markdown",
   "id": "fbe04301",
   "metadata": {},
   "source": [
    "The findings column is structured in a specific way, take the first row: 1020    Aircraft - Aircraft structures - Doors - Cargo. The overall area of issue was Aircraft specific, then more detail with 'Aircraft structures' then which structure, 'Doors', 'Cargo'. There is also the possibility of cascading or multiple findings, such as an Environmental Issue could then lead to a Personnel issue, and these are separated by commas. In this project, we're specifically looking at the root cause of the accident, not the cascading failure after. This means we want only the first Finding, not any that follow it. \n",
    "\n",
    "To do this I first have to split the strings in the Findings column into a list. The delimiter is a comma. Since we only care about the first Finding, we only have to separate at the first comma, not any of the ones after."
   ]
  },
  {
   "cell_type": "code",
   "execution_count": 22,
   "id": "5b924d85",
   "metadata": {},
   "outputs": [],
   "source": [
    "df_findings_all = df_flights['Findings'].str.split(',', n = 1, expand = True)"
   ]
  },
  {
   "cell_type": "code",
   "execution_count": 23,
   "id": "ecbc6b21",
   "metadata": {},
   "outputs": [
    {
     "data": {
      "text/html": [
       "<div>\n",
       "<style scoped>\n",
       "    .dataframe tbody tr th:only-of-type {\n",
       "        vertical-align: middle;\n",
       "    }\n",
       "\n",
       "    .dataframe tbody tr th {\n",
       "        vertical-align: top;\n",
       "    }\n",
       "\n",
       "    .dataframe thead th {\n",
       "        text-align: right;\n",
       "    }\n",
       "</style>\n",
       "<table border=\"1\" class=\"dataframe\">\n",
       "  <thead>\n",
       "    <tr style=\"text-align: right;\">\n",
       "      <th></th>\n",
       "      <th>0</th>\n",
       "      <th>1</th>\n",
       "    </tr>\n",
       "  </thead>\n",
       "  <tbody>\n",
       "    <tr>\n",
       "      <th>1020</th>\n",
       "      <td>Aircraft - Aircraft structures - Doors - Cargo...</td>\n",
       "      <td>Personnel issues - Task performance - Mainten...</td>\n",
       "    </tr>\n",
       "    <tr>\n",
       "      <th>349</th>\n",
       "      <td>Personnel issues - Psychological - Attention/m...</td>\n",
       "      <td>Aircraft - Aircraft power plant - Power plant...</td>\n",
       "    </tr>\n",
       "    <tr>\n",
       "      <th>348</th>\n",
       "      <td>Environmental issues - Conditions/weather/phen...</td>\n",
       "      <td>Environmental issues - Physical environment -...</td>\n",
       "    </tr>\n",
       "    <tr>\n",
       "      <th>1019</th>\n",
       "      <td>Personnel issues - Psychological - Perception/...</td>\n",
       "      <td>Environmental issues - Task environment - Pre...</td>\n",
       "    </tr>\n",
       "    <tr>\n",
       "      <th>1018</th>\n",
       "      <td>Environmental issues - Physical environment - ...</td>\n",
       "      <td>Personnel issues - Action/decision - Info pro...</td>\n",
       "    </tr>\n",
       "  </tbody>\n",
       "</table>\n",
       "</div>"
      ],
      "text/plain": [
       "                                                      0  \\\n",
       "1020  Aircraft - Aircraft structures - Doors - Cargo...   \n",
       "349   Personnel issues - Psychological - Attention/m...   \n",
       "348   Environmental issues - Conditions/weather/phen...   \n",
       "1019  Personnel issues - Psychological - Perception/...   \n",
       "1018  Environmental issues - Physical environment - ...   \n",
       "\n",
       "                                                      1  \n",
       "1020   Personnel issues - Task performance - Mainten...  \n",
       "349    Aircraft - Aircraft power plant - Power plant...  \n",
       "348    Environmental issues - Physical environment -...  \n",
       "1019   Environmental issues - Task environment - Pre...  \n",
       "1018   Personnel issues - Action/decision - Info pro...  "
      ]
     },
     "execution_count": 23,
     "metadata": {},
     "output_type": "execute_result"
    }
   ],
   "source": [
    "df_findings_all.head()"
   ]
  },
  {
   "cell_type": "code",
   "execution_count": 24,
   "id": "9a1bf3e8",
   "metadata": {},
   "outputs": [
    {
     "data": {
      "text/html": [
       "<div>\n",
       "<style scoped>\n",
       "    .dataframe tbody tr th:only-of-type {\n",
       "        vertical-align: middle;\n",
       "    }\n",
       "\n",
       "    .dataframe tbody tr th {\n",
       "        vertical-align: top;\n",
       "    }\n",
       "\n",
       "    .dataframe thead th {\n",
       "        text-align: right;\n",
       "    }\n",
       "</style>\n",
       "<table border=\"1\" class=\"dataframe\">\n",
       "  <thead>\n",
       "    <tr style=\"text-align: right;\">\n",
       "      <th></th>\n",
       "      <th>NtsbNo</th>\n",
       "      <th>EventType</th>\n",
       "      <th>Mkey</th>\n",
       "      <th>EventDate</th>\n",
       "      <th>City</th>\n",
       "      <th>State</th>\n",
       "      <th>Country</th>\n",
       "      <th>N#</th>\n",
       "      <th>HasSafetyRec</th>\n",
       "      <th>Mode</th>\n",
       "      <th>OriginalPublishedDate</th>\n",
       "      <th>HighestInjuryLevel</th>\n",
       "      <th>FatalInjuryCount</th>\n",
       "      <th>SeriousInjuryCount</th>\n",
       "      <th>MinorInjuryCount</th>\n",
       "      <th>ProbableCause</th>\n",
       "      <th>Findings</th>\n",
       "      <th>FAR Part</th>\n",
       "      <th>Findings_main</th>\n",
       "      <th>Findings_supp</th>\n",
       "    </tr>\n",
       "  </thead>\n",
       "  <tbody>\n",
       "    <tr>\n",
       "      <th>1020</th>\n",
       "      <td>ANC08MA038</td>\n",
       "      <td>ACC</td>\n",
       "      <td>67341</td>\n",
       "      <td>2008-01-05T13:43:00Z</td>\n",
       "      <td>Kodiak</td>\n",
       "      <td>Alaska</td>\n",
       "      <td>United States</td>\n",
       "      <td>N509FN</td>\n",
       "      <td>False</td>\n",
       "      <td>Aviation</td>\n",
       "      <td>2009-04-15T04:00:00Z</td>\n",
       "      <td>Fatal</td>\n",
       "      <td>6.0</td>\n",
       "      <td>3.0</td>\n",
       "      <td>1.0</td>\n",
       "      <td>The failure of company maintenance personnel t...</td>\n",
       "      <td>Aircraft - Aircraft structures - Doors - Cargo...</td>\n",
       "      <td>135</td>\n",
       "      <td>Aircraft - Aircraft structures - Doors - Cargo...</td>\n",
       "      <td>Personnel issues - Task performance - Mainten...</td>\n",
       "    </tr>\n",
       "    <tr>\n",
       "      <th>349</th>\n",
       "      <td>CHI08LA071</td>\n",
       "      <td>ACC</td>\n",
       "      <td>67425</td>\n",
       "      <td>2008-01-09T07:49:00Z</td>\n",
       "      <td>Detroit</td>\n",
       "      <td>Michigan</td>\n",
       "      <td>United States</td>\n",
       "      <td>N349NB</td>\n",
       "      <td>False</td>\n",
       "      <td>Aviation</td>\n",
       "      <td>2008-05-28T04:00:00Z</td>\n",
       "      <td>None</td>\n",
       "      <td>0.0</td>\n",
       "      <td>0.0</td>\n",
       "      <td>0.0</td>\n",
       "      <td>The separation of the engine cowling which res...</td>\n",
       "      <td>Personnel issues - Psychological - Attention/m...</td>\n",
       "      <td>121</td>\n",
       "      <td>Personnel issues - Psychological - Attention/m...</td>\n",
       "      <td>Aircraft - Aircraft power plant - Power plant...</td>\n",
       "    </tr>\n",
       "    <tr>\n",
       "      <th>348</th>\n",
       "      <td>SEA08LA061</td>\n",
       "      <td>ACC</td>\n",
       "      <td>67369</td>\n",
       "      <td>2008-01-13T19:29:00Z</td>\n",
       "      <td>San Francisco</td>\n",
       "      <td>California</td>\n",
       "      <td>United States</td>\n",
       "      <td>N705SK, N508UA</td>\n",
       "      <td>False</td>\n",
       "      <td>Aviation</td>\n",
       "      <td>2008-08-28T04:00:00Z</td>\n",
       "      <td>None</td>\n",
       "      <td>0.0</td>\n",
       "      <td>0.0</td>\n",
       "      <td>0.0</td>\n",
       "      <td>The company tug operator of the other airplane...</td>\n",
       "      <td>Environmental issues - Conditions/weather/phen...</td>\n",
       "      <td>121</td>\n",
       "      <td>Environmental issues - Conditions/weather/phen...</td>\n",
       "      <td>Environmental issues - Physical environment -...</td>\n",
       "    </tr>\n",
       "    <tr>\n",
       "      <th>1019</th>\n",
       "      <td>SEA08FA062</td>\n",
       "      <td>ACC</td>\n",
       "      <td>67390</td>\n",
       "      <td>2008-01-14T05:08:00Z</td>\n",
       "      <td>Lihue</td>\n",
       "      <td>Hawaii</td>\n",
       "      <td>United States</td>\n",
       "      <td>N410UB</td>\n",
       "      <td>False</td>\n",
       "      <td>Aviation</td>\n",
       "      <td>2009-05-06T04:00:00Z</td>\n",
       "      <td>Fatal</td>\n",
       "      <td>1.0</td>\n",
       "      <td>0.0</td>\n",
       "      <td>0.0</td>\n",
       "      <td>The pilot's spatial disorientation and loss of...</td>\n",
       "      <td>Personnel issues - Psychological - Perception/...</td>\n",
       "      <td>135</td>\n",
       "      <td>Personnel issues - Psychological - Perception/...</td>\n",
       "      <td>Environmental issues - Task environment - Pre...</td>\n",
       "    </tr>\n",
       "    <tr>\n",
       "      <th>1018</th>\n",
       "      <td>ANC08LA031</td>\n",
       "      <td>ACC</td>\n",
       "      <td>67395</td>\n",
       "      <td>2008-01-15T14:39:00Z</td>\n",
       "      <td>Bethel</td>\n",
       "      <td>Alaska</td>\n",
       "      <td>United States</td>\n",
       "      <td>N454SF</td>\n",
       "      <td>False</td>\n",
       "      <td>Aviation</td>\n",
       "      <td>2008-08-28T04:00:00Z</td>\n",
       "      <td>Minor</td>\n",
       "      <td>0.0</td>\n",
       "      <td>0.0</td>\n",
       "      <td>1.0</td>\n",
       "      <td>The pilot's selection of unsuitable terrain fo...</td>\n",
       "      <td>Environmental issues - Physical environment - ...</td>\n",
       "      <td>135</td>\n",
       "      <td>Environmental issues - Physical environment - ...</td>\n",
       "      <td>Personnel issues - Action/decision - Info pro...</td>\n",
       "    </tr>\n",
       "  </tbody>\n",
       "</table>\n",
       "</div>"
      ],
      "text/plain": [
       "          NtsbNo EventType   Mkey             EventDate           City  \\\n",
       "1020  ANC08MA038       ACC  67341  2008-01-05T13:43:00Z         Kodiak   \n",
       "349   CHI08LA071       ACC  67425  2008-01-09T07:49:00Z        Detroit   \n",
       "348   SEA08LA061       ACC  67369  2008-01-13T19:29:00Z  San Francisco   \n",
       "1019  SEA08FA062       ACC  67390  2008-01-14T05:08:00Z          Lihue   \n",
       "1018  ANC08LA031       ACC  67395  2008-01-15T14:39:00Z         Bethel   \n",
       "\n",
       "           State        Country              N#  HasSafetyRec      Mode  \\\n",
       "1020      Alaska  United States          N509FN         False  Aviation   \n",
       "349     Michigan  United States          N349NB         False  Aviation   \n",
       "348   California  United States  N705SK, N508UA         False  Aviation   \n",
       "1019      Hawaii  United States          N410UB         False  Aviation   \n",
       "1018      Alaska  United States          N454SF         False  Aviation   \n",
       "\n",
       "     OriginalPublishedDate HighestInjuryLevel  FatalInjuryCount  \\\n",
       "1020  2009-04-15T04:00:00Z              Fatal               6.0   \n",
       "349   2008-05-28T04:00:00Z               None               0.0   \n",
       "348   2008-08-28T04:00:00Z               None               0.0   \n",
       "1019  2009-05-06T04:00:00Z              Fatal               1.0   \n",
       "1018  2008-08-28T04:00:00Z              Minor               0.0   \n",
       "\n",
       "      SeriousInjuryCount  MinorInjuryCount  \\\n",
       "1020                 3.0               1.0   \n",
       "349                  0.0               0.0   \n",
       "348                  0.0               0.0   \n",
       "1019                 0.0               0.0   \n",
       "1018                 0.0               1.0   \n",
       "\n",
       "                                          ProbableCause  \\\n",
       "1020  The failure of company maintenance personnel t...   \n",
       "349   The separation of the engine cowling which res...   \n",
       "348   The company tug operator of the other airplane...   \n",
       "1019  The pilot's spatial disorientation and loss of...   \n",
       "1018  The pilot's selection of unsuitable terrain fo...   \n",
       "\n",
       "                                               Findings FAR Part  \\\n",
       "1020  Aircraft - Aircraft structures - Doors - Cargo...      135   \n",
       "349   Personnel issues - Psychological - Attention/m...      121   \n",
       "348   Environmental issues - Conditions/weather/phen...      121   \n",
       "1019  Personnel issues - Psychological - Perception/...      135   \n",
       "1018  Environmental issues - Physical environment - ...      135   \n",
       "\n",
       "                                          Findings_main  \\\n",
       "1020  Aircraft - Aircraft structures - Doors - Cargo...   \n",
       "349   Personnel issues - Psychological - Attention/m...   \n",
       "348   Environmental issues - Conditions/weather/phen...   \n",
       "1019  Personnel issues - Psychological - Perception/...   \n",
       "1018  Environmental issues - Physical environment - ...   \n",
       "\n",
       "                                          Findings_supp  \n",
       "1020   Personnel issues - Task performance - Mainten...  \n",
       "349    Aircraft - Aircraft power plant - Power plant...  \n",
       "348    Environmental issues - Physical environment -...  \n",
       "1019   Environmental issues - Task environment - Pre...  \n",
       "1018   Personnel issues - Action/decision - Info pro...  "
      ]
     },
     "execution_count": 24,
     "metadata": {},
     "output_type": "execute_result"
    }
   ],
   "source": [
    "df_flights['Findings_main'] = df_findings_all[0]\n",
    "df_flights['Findings_supp'] = df_findings_all[1]\n",
    "df_flights.head()"
   ]
  },
  {
   "cell_type": "markdown",
   "id": "c3d5c2ff",
   "metadata": {},
   "source": [
    "Can now delete the original 'Findings' column."
   ]
  },
  {
   "cell_type": "code",
   "execution_count": 25,
   "id": "f74dd637",
   "metadata": {},
   "outputs": [],
   "source": [
    "df_flights = df_flights.drop(['Findings'], axis = 1)"
   ]
  },
  {
   "cell_type": "code",
   "execution_count": 26,
   "id": "f784556e",
   "metadata": {},
   "outputs": [
    {
     "data": {
      "text/plain": [
       "Index(['NtsbNo', 'EventType', 'Mkey', 'EventDate', 'City', 'State', 'Country',\n",
       "       'N#', 'HasSafetyRec', 'Mode', 'OriginalPublishedDate',\n",
       "       'HighestInjuryLevel', 'FatalInjuryCount', 'SeriousInjuryCount',\n",
       "       'MinorInjuryCount', 'ProbableCause', 'FAR Part', 'Findings_main',\n",
       "       'Findings_supp'],\n",
       "      dtype='object')"
      ]
     },
     "execution_count": 26,
     "metadata": {},
     "output_type": "execute_result"
    }
   ],
   "source": [
    "df_flights.columns"
   ]
  },
  {
   "cell_type": "code",
   "execution_count": 27,
   "id": "749340ff",
   "metadata": {},
   "outputs": [
    {
     "name": "stdout",
     "output_type": "stream",
     "text": [
      "<StringArray>\n",
      "[                                   'Aircraft - Aircraft structures - Doors - Cargo/baggage doors - Incorrect service/maintenance',\n",
      "                                     'Personnel issues - Psychological - Attention/monitoring - Attention - Maintenance personnel',\n",
      "                                    'Environmental issues - Conditions/weather/phenomena - Light condition - Dark - Not specified',\n",
      "                             'Personnel issues - Psychological - Perception/orientation/illusion - Spatial disorientation - Pilot',\n",
      " 'Environmental issues - Physical environment - Runway/land/takeoff/taxi surface - Snow/slush/ice covered surface - Not specified',\n",
      "                                            'Aircraft - Aircraft systems - Vacuum system - Vacuum indicating system - Malfunction',\n",
      "                                                      'Personnel issues - Action/decision - Action - Lack of action - Ground crew',\n",
      "                         'Environmental issues - Conditions/weather/phenomena - Turbulence - Clear air turbulence - Not specified',\n",
      "                             'Environmental issues - Physical environment - Object/animal/substance - Sign/marker - Not specified',\n",
      "                                        'Environmental issues - Task environment - Physical workspace - (general) - Not specified',\n",
      " ...\n",
      "                                   'Aircraft - Aircraft structures - Fuselage - Longerons/stringers (main fus) - Damaged/degraded',\n",
      "                                                     'Personnel issues - Physical - Impairment/incapacitation - (general) - Pilot',\n",
      "                    'Aircraft - Aircraft systems - Equipment/furnishings - Flight compartment equipment - Not installed/available',\n",
      "                                         'Personnel issues - Action/decision - Action - Incorrect action performance - Cabin crew',\n",
      "                   'Environmental issues - Conditions/weather/phenomena - Turbulence - Clear air turbulence - Effect on operation',\n",
      "                                'Personnel issues - Experience/knowledge - Training - Type/qual of instruct/training - Cabin crew',\n",
      "                                                            'Personnel issues - Task performance - Inspection - (general) - Pilot',\n",
      "                            'Personnel issues - Action/decision - Action - Incorrect action performance - Pilot of other aircraft',\n",
      "           'Aircraft - Aircraft oper/perf/capability - Performance/control parameters - Angle of attack - Not attained/maintained',\n",
      "                                  'Aircraft - Aircraft systems - Landing gear system - Main landing gear - Unknown/Not determined']\n",
      "Length: 318, dtype: string\n"
     ]
    }
   ],
   "source": [
    "unique_find = df_flights['Findings_main'].unique()\n",
    "print(unique_find)"
   ]
  },
  {
   "cell_type": "markdown",
   "id": "a400aed7",
   "metadata": {},
   "source": [
    "The Main Findings column still has a lot of variation (318 different entries). This is most likely because the details can get down to specifics such as which specific door has the mechanical issue. Or a specific issue with a pilot vs a generic 'personnel issue'. We're going to have to split the column further."
   ]
  },
  {
   "cell_type": "code",
   "execution_count": 28,
   "id": "c4eb939c",
   "metadata": {},
   "outputs": [
    {
     "data": {
      "text/html": [
       "<div>\n",
       "<style scoped>\n",
       "    .dataframe tbody tr th:only-of-type {\n",
       "        vertical-align: middle;\n",
       "    }\n",
       "\n",
       "    .dataframe tbody tr th {\n",
       "        vertical-align: top;\n",
       "    }\n",
       "\n",
       "    .dataframe thead th {\n",
       "        text-align: right;\n",
       "    }\n",
       "</style>\n",
       "<table border=\"1\" class=\"dataframe\">\n",
       "  <thead>\n",
       "    <tr style=\"text-align: right;\">\n",
       "      <th></th>\n",
       "      <th>0</th>\n",
       "      <th>1</th>\n",
       "      <th>2</th>\n",
       "      <th>3</th>\n",
       "      <th>4</th>\n",
       "      <th>5</th>\n",
       "    </tr>\n",
       "  </thead>\n",
       "  <tbody>\n",
       "    <tr>\n",
       "      <th>1020</th>\n",
       "      <td>Aircraft</td>\n",
       "      <td>Aircraft structures</td>\n",
       "      <td>Doors</td>\n",
       "      <td>Cargo/baggage doors</td>\n",
       "      <td>Incorrect service/maintenance</td>\n",
       "      <td>&lt;NA&gt;</td>\n",
       "    </tr>\n",
       "    <tr>\n",
       "      <th>349</th>\n",
       "      <td>Personnel issues</td>\n",
       "      <td>Psychological</td>\n",
       "      <td>Attention/monitoring</td>\n",
       "      <td>Attention</td>\n",
       "      <td>Maintenance personnel</td>\n",
       "      <td>&lt;NA&gt;</td>\n",
       "    </tr>\n",
       "    <tr>\n",
       "      <th>348</th>\n",
       "      <td>Environmental issues</td>\n",
       "      <td>Conditions/weather/phenomena</td>\n",
       "      <td>Light condition</td>\n",
       "      <td>Dark</td>\n",
       "      <td>Not specified</td>\n",
       "      <td>&lt;NA&gt;</td>\n",
       "    </tr>\n",
       "    <tr>\n",
       "      <th>1019</th>\n",
       "      <td>Personnel issues</td>\n",
       "      <td>Psychological</td>\n",
       "      <td>Perception/orientation/illusion</td>\n",
       "      <td>Spatial disorientation</td>\n",
       "      <td>Pilot</td>\n",
       "      <td>&lt;NA&gt;</td>\n",
       "    </tr>\n",
       "    <tr>\n",
       "      <th>1018</th>\n",
       "      <td>Environmental issues</td>\n",
       "      <td>Physical environment</td>\n",
       "      <td>Runway/land/takeoff/taxi surface</td>\n",
       "      <td>Snow/slush/ice covered surface</td>\n",
       "      <td>Not specified</td>\n",
       "      <td>&lt;NA&gt;</td>\n",
       "    </tr>\n",
       "  </tbody>\n",
       "</table>\n",
       "</div>"
      ],
      "text/plain": [
       "                          0                               1  \\\n",
       "1020              Aircraft             Aircraft structures    \n",
       "349       Personnel issues                   Psychological    \n",
       "348   Environmental issues    Conditions/weather/phenomena    \n",
       "1019      Personnel issues                   Psychological    \n",
       "1018  Environmental issues            Physical environment    \n",
       "\n",
       "                                       2                                 3  \\\n",
       "1020                              Doors               Cargo/baggage doors    \n",
       "349                Attention/monitoring                         Attention    \n",
       "348                     Light condition                              Dark    \n",
       "1019    Perception/orientation/illusion            Spatial disorientation    \n",
       "1018   Runway/land/takeoff/taxi surface    Snow/slush/ice covered surface    \n",
       "\n",
       "                                   4     5  \n",
       "1020   Incorrect service/maintenance  <NA>  \n",
       "349            Maintenance personnel  <NA>  \n",
       "348                    Not specified  <NA>  \n",
       "1019                           Pilot  <NA>  \n",
       "1018                   Not specified  <NA>  "
      ]
     },
     "execution_count": 28,
     "metadata": {},
     "output_type": "execute_result"
    }
   ],
   "source": [
    "df_findings_main = df_flights['Findings_main'].str.split('-', expand = True)\n",
    "df_findings_main.head()"
   ]
  },
  {
   "cell_type": "code",
   "execution_count": 29,
   "id": "9870b407",
   "metadata": {},
   "outputs": [],
   "source": [
    "df_flights['Findings_main1'] = df_findings_main[0]\n",
    "df_flights['Findings_main2'] = df_findings_main[1]\n",
    "df_flights['Findings_main3'] = df_findings_main[2]\n",
    "df_flights['Findings_main4'] = df_findings_main[3]\n",
    "df_flights['Findings_main5'] = df_findings_main[4]\n",
    "df_flights['Findings_main6'] = df_findings_main[5]"
   ]
  },
  {
   "cell_type": "code",
   "execution_count": 30,
   "id": "86f049ea",
   "metadata": {},
   "outputs": [
    {
     "data": {
      "text/html": [
       "<div>\n",
       "<style scoped>\n",
       "    .dataframe tbody tr th:only-of-type {\n",
       "        vertical-align: middle;\n",
       "    }\n",
       "\n",
       "    .dataframe tbody tr th {\n",
       "        vertical-align: top;\n",
       "    }\n",
       "\n",
       "    .dataframe thead th {\n",
       "        text-align: right;\n",
       "    }\n",
       "</style>\n",
       "<table border=\"1\" class=\"dataframe\">\n",
       "  <thead>\n",
       "    <tr style=\"text-align: right;\">\n",
       "      <th></th>\n",
       "      <th>NtsbNo</th>\n",
       "      <th>EventType</th>\n",
       "      <th>Mkey</th>\n",
       "      <th>EventDate</th>\n",
       "      <th>City</th>\n",
       "      <th>State</th>\n",
       "      <th>Country</th>\n",
       "      <th>N#</th>\n",
       "      <th>HasSafetyRec</th>\n",
       "      <th>Mode</th>\n",
       "      <th>...</th>\n",
       "      <th>ProbableCause</th>\n",
       "      <th>FAR Part</th>\n",
       "      <th>Findings_main</th>\n",
       "      <th>Findings_supp</th>\n",
       "      <th>Findings_main1</th>\n",
       "      <th>Findings_main2</th>\n",
       "      <th>Findings_main3</th>\n",
       "      <th>Findings_main4</th>\n",
       "      <th>Findings_main5</th>\n",
       "      <th>Findings_main6</th>\n",
       "    </tr>\n",
       "  </thead>\n",
       "  <tbody>\n",
       "    <tr>\n",
       "      <th>1020</th>\n",
       "      <td>ANC08MA038</td>\n",
       "      <td>ACC</td>\n",
       "      <td>67341</td>\n",
       "      <td>2008-01-05T13:43:00Z</td>\n",
       "      <td>Kodiak</td>\n",
       "      <td>Alaska</td>\n",
       "      <td>United States</td>\n",
       "      <td>N509FN</td>\n",
       "      <td>False</td>\n",
       "      <td>Aviation</td>\n",
       "      <td>...</td>\n",
       "      <td>The failure of company maintenance personnel t...</td>\n",
       "      <td>135</td>\n",
       "      <td>Aircraft - Aircraft structures - Doors - Cargo...</td>\n",
       "      <td>Personnel issues - Task performance - Mainten...</td>\n",
       "      <td>Aircraft</td>\n",
       "      <td>Aircraft structures</td>\n",
       "      <td>Doors</td>\n",
       "      <td>Cargo/baggage doors</td>\n",
       "      <td>Incorrect service/maintenance</td>\n",
       "      <td>&lt;NA&gt;</td>\n",
       "    </tr>\n",
       "    <tr>\n",
       "      <th>349</th>\n",
       "      <td>CHI08LA071</td>\n",
       "      <td>ACC</td>\n",
       "      <td>67425</td>\n",
       "      <td>2008-01-09T07:49:00Z</td>\n",
       "      <td>Detroit</td>\n",
       "      <td>Michigan</td>\n",
       "      <td>United States</td>\n",
       "      <td>N349NB</td>\n",
       "      <td>False</td>\n",
       "      <td>Aviation</td>\n",
       "      <td>...</td>\n",
       "      <td>The separation of the engine cowling which res...</td>\n",
       "      <td>121</td>\n",
       "      <td>Personnel issues - Psychological - Attention/m...</td>\n",
       "      <td>Aircraft - Aircraft power plant - Power plant...</td>\n",
       "      <td>Personnel issues</td>\n",
       "      <td>Psychological</td>\n",
       "      <td>Attention/monitoring</td>\n",
       "      <td>Attention</td>\n",
       "      <td>Maintenance personnel</td>\n",
       "      <td>&lt;NA&gt;</td>\n",
       "    </tr>\n",
       "    <tr>\n",
       "      <th>348</th>\n",
       "      <td>SEA08LA061</td>\n",
       "      <td>ACC</td>\n",
       "      <td>67369</td>\n",
       "      <td>2008-01-13T19:29:00Z</td>\n",
       "      <td>San Francisco</td>\n",
       "      <td>California</td>\n",
       "      <td>United States</td>\n",
       "      <td>N705SK, N508UA</td>\n",
       "      <td>False</td>\n",
       "      <td>Aviation</td>\n",
       "      <td>...</td>\n",
       "      <td>The company tug operator of the other airplane...</td>\n",
       "      <td>121</td>\n",
       "      <td>Environmental issues - Conditions/weather/phen...</td>\n",
       "      <td>Environmental issues - Physical environment -...</td>\n",
       "      <td>Environmental issues</td>\n",
       "      <td>Conditions/weather/phenomena</td>\n",
       "      <td>Light condition</td>\n",
       "      <td>Dark</td>\n",
       "      <td>Not specified</td>\n",
       "      <td>&lt;NA&gt;</td>\n",
       "    </tr>\n",
       "    <tr>\n",
       "      <th>1019</th>\n",
       "      <td>SEA08FA062</td>\n",
       "      <td>ACC</td>\n",
       "      <td>67390</td>\n",
       "      <td>2008-01-14T05:08:00Z</td>\n",
       "      <td>Lihue</td>\n",
       "      <td>Hawaii</td>\n",
       "      <td>United States</td>\n",
       "      <td>N410UB</td>\n",
       "      <td>False</td>\n",
       "      <td>Aviation</td>\n",
       "      <td>...</td>\n",
       "      <td>The pilot's spatial disorientation and loss of...</td>\n",
       "      <td>135</td>\n",
       "      <td>Personnel issues - Psychological - Perception/...</td>\n",
       "      <td>Environmental issues - Task environment - Pre...</td>\n",
       "      <td>Personnel issues</td>\n",
       "      <td>Psychological</td>\n",
       "      <td>Perception/orientation/illusion</td>\n",
       "      <td>Spatial disorientation</td>\n",
       "      <td>Pilot</td>\n",
       "      <td>&lt;NA&gt;</td>\n",
       "    </tr>\n",
       "    <tr>\n",
       "      <th>1018</th>\n",
       "      <td>ANC08LA031</td>\n",
       "      <td>ACC</td>\n",
       "      <td>67395</td>\n",
       "      <td>2008-01-15T14:39:00Z</td>\n",
       "      <td>Bethel</td>\n",
       "      <td>Alaska</td>\n",
       "      <td>United States</td>\n",
       "      <td>N454SF</td>\n",
       "      <td>False</td>\n",
       "      <td>Aviation</td>\n",
       "      <td>...</td>\n",
       "      <td>The pilot's selection of unsuitable terrain fo...</td>\n",
       "      <td>135</td>\n",
       "      <td>Environmental issues - Physical environment - ...</td>\n",
       "      <td>Personnel issues - Action/decision - Info pro...</td>\n",
       "      <td>Environmental issues</td>\n",
       "      <td>Physical environment</td>\n",
       "      <td>Runway/land/takeoff/taxi surface</td>\n",
       "      <td>Snow/slush/ice covered surface</td>\n",
       "      <td>Not specified</td>\n",
       "      <td>&lt;NA&gt;</td>\n",
       "    </tr>\n",
       "  </tbody>\n",
       "</table>\n",
       "<p>5 rows × 25 columns</p>\n",
       "</div>"
      ],
      "text/plain": [
       "          NtsbNo EventType   Mkey             EventDate           City  \\\n",
       "1020  ANC08MA038       ACC  67341  2008-01-05T13:43:00Z         Kodiak   \n",
       "349   CHI08LA071       ACC  67425  2008-01-09T07:49:00Z        Detroit   \n",
       "348   SEA08LA061       ACC  67369  2008-01-13T19:29:00Z  San Francisco   \n",
       "1019  SEA08FA062       ACC  67390  2008-01-14T05:08:00Z          Lihue   \n",
       "1018  ANC08LA031       ACC  67395  2008-01-15T14:39:00Z         Bethel   \n",
       "\n",
       "           State        Country              N#  HasSafetyRec      Mode  ...  \\\n",
       "1020      Alaska  United States          N509FN         False  Aviation  ...   \n",
       "349     Michigan  United States          N349NB         False  Aviation  ...   \n",
       "348   California  United States  N705SK, N508UA         False  Aviation  ...   \n",
       "1019      Hawaii  United States          N410UB         False  Aviation  ...   \n",
       "1018      Alaska  United States          N454SF         False  Aviation  ...   \n",
       "\n",
       "                                          ProbableCause FAR Part  \\\n",
       "1020  The failure of company maintenance personnel t...      135   \n",
       "349   The separation of the engine cowling which res...      121   \n",
       "348   The company tug operator of the other airplane...      121   \n",
       "1019  The pilot's spatial disorientation and loss of...      135   \n",
       "1018  The pilot's selection of unsuitable terrain fo...      135   \n",
       "\n",
       "                                          Findings_main  \\\n",
       "1020  Aircraft - Aircraft structures - Doors - Cargo...   \n",
       "349   Personnel issues - Psychological - Attention/m...   \n",
       "348   Environmental issues - Conditions/weather/phen...   \n",
       "1019  Personnel issues - Psychological - Perception/...   \n",
       "1018  Environmental issues - Physical environment - ...   \n",
       "\n",
       "                                          Findings_supp  \\\n",
       "1020   Personnel issues - Task performance - Mainten...   \n",
       "349    Aircraft - Aircraft power plant - Power plant...   \n",
       "348    Environmental issues - Physical environment -...   \n",
       "1019   Environmental issues - Task environment - Pre...   \n",
       "1018   Personnel issues - Action/decision - Info pro...   \n",
       "\n",
       "             Findings_main1                  Findings_main2  \\\n",
       "1020              Aircraft             Aircraft structures    \n",
       "349       Personnel issues                   Psychological    \n",
       "348   Environmental issues    Conditions/weather/phenomena    \n",
       "1019      Personnel issues                   Psychological    \n",
       "1018  Environmental issues            Physical environment    \n",
       "\n",
       "                          Findings_main3                    Findings_main4  \\\n",
       "1020                              Doors               Cargo/baggage doors    \n",
       "349                Attention/monitoring                         Attention    \n",
       "348                     Light condition                              Dark    \n",
       "1019    Perception/orientation/illusion            Spatial disorientation    \n",
       "1018   Runway/land/takeoff/taxi surface    Snow/slush/ice covered surface    \n",
       "\n",
       "                      Findings_main5 Findings_main6  \n",
       "1020   Incorrect service/maintenance           <NA>  \n",
       "349            Maintenance personnel           <NA>  \n",
       "348                    Not specified           <NA>  \n",
       "1019                           Pilot           <NA>  \n",
       "1018                   Not specified           <NA>  \n",
       "\n",
       "[5 rows x 25 columns]"
      ]
     },
     "execution_count": 30,
     "metadata": {},
     "output_type": "execute_result"
    }
   ],
   "source": [
    "df_flights.head()"
   ]
  },
  {
   "cell_type": "code",
   "execution_count": 31,
   "id": "e32d6cf6",
   "metadata": {},
   "outputs": [],
   "source": [
    "#now to drop the Findings_main column\n",
    "df_flights = df_flights.drop(['Findings_main'], axis = 1)"
   ]
  },
  {
   "cell_type": "code",
   "execution_count": 32,
   "id": "6e457255",
   "metadata": {},
   "outputs": [
    {
     "name": "stdout",
     "output_type": "stream",
     "text": [
      "<StringArray>\n",
      "[             'Aircraft ',      'Personnel issues ',  'Environmental issues ',\n",
      "        'Not determined ', 'Organizational issues ']\n",
      "Length: 5, dtype: string\n"
     ]
    }
   ],
   "source": [
    "unique_findings = df_flights['Findings_main1'].unique()\n",
    "print(unique_findings)"
   ]
  },
  {
   "cell_type": "markdown",
   "id": "707b9cce",
   "metadata": {},
   "source": [
    "Yes! We now have the 5 main categories of Accident Causes. This will help determine what causes the majority of aircraft accidents."
   ]
  },
  {
   "cell_type": "markdown",
   "id": "349d27e0",
   "metadata": {},
   "source": [
    "**Looking at Numbers**\n",
    "\n",
    "Most of the data is text, but a few of the columns have numbers that we may be interested in in the future. Going to calculate summary stats for these columns."
   ]
  },
  {
   "cell_type": "code",
   "execution_count": 33,
   "id": "838ca7d5",
   "metadata": {},
   "outputs": [
    {
     "data": {
      "text/plain": [
       "count    752.000000\n",
       "mean       0.333777\n",
       "std        2.092795\n",
       "min        0.000000\n",
       "25%        0.000000\n",
       "50%        0.000000\n",
       "75%        0.000000\n",
       "max       50.000000\n",
       "Name: FatalInjuryCount, dtype: float64"
      ]
     },
     "execution_count": 33,
     "metadata": {},
     "output_type": "execute_result"
    }
   ],
   "source": [
    "df_flights.FatalInjuryCount.describe()"
   ]
  },
  {
   "cell_type": "code",
   "execution_count": 34,
   "id": "a298eef0",
   "metadata": {},
   "outputs": [
    {
     "data": {
      "text/plain": [
       "count    752.000000\n",
       "mean       0.437500\n",
       "std        0.881125\n",
       "min        0.000000\n",
       "25%        0.000000\n",
       "50%        0.000000\n",
       "75%        1.000000\n",
       "max        9.000000\n",
       "Name: SeriousInjuryCount, dtype: float64"
      ]
     },
     "execution_count": 34,
     "metadata": {},
     "output_type": "execute_result"
    }
   ],
   "source": [
    "df_flights.SeriousInjuryCount.describe()"
   ]
  },
  {
   "cell_type": "code",
   "execution_count": 35,
   "id": "17e369e9",
   "metadata": {},
   "outputs": [
    {
     "data": {
      "text/plain": [
       "count    752.000000\n",
       "mean       0.872340\n",
       "std        5.229455\n",
       "min        0.000000\n",
       "25%        0.000000\n",
       "50%        0.000000\n",
       "75%        0.000000\n",
       "max      125.000000\n",
       "Name: MinorInjuryCount, dtype: float64"
      ]
     },
     "execution_count": 35,
     "metadata": {},
     "output_type": "execute_result"
    }
   ],
   "source": [
    "df_flights.MinorInjuryCount.describe()"
   ]
  },
  {
   "cell_type": "code",
   "execution_count": 36,
   "id": "dd095dde",
   "metadata": {},
   "outputs": [
    {
     "data": {
      "image/png": "[encoded data removed]",
      "text/plain": [
       "<Figure size 1080x360 with 3 Axes>"
      ]
     },
     "metadata": {
      "needs_background": "light"
     },
     "output_type": "display_data"
    }
   ],
   "source": [
    "fig, axes = plt.subplots(1, 3, figsize=(15, 5))\n",
    "sns.histplot(ax=axes[0], x = df_flights.FatalInjuryCount)\n",
    "sns.histplot(ax=axes[1], x = df_flights.SeriousInjuryCount)\n",
    "sns.histplot(ax=axes[2], x = df_flights.MinorInjuryCount)\n",
    "plt.show()"
   ]
  },
  {
   "cell_type": "markdown",
   "id": "0ffdfa5b",
   "metadata": {},
   "source": [
    "Looks like serious injury has the least amount of deviation. Both Fatal Injury and Minor Injury have an outlier variable, but this could be from a more extreme accident with a larger plane than the other accidents."
   ]
  },
  {
   "cell_type": "markdown",
   "id": "a64be7d4",
   "metadata": {},
   "source": [
    "**Saving the dataframe to a new excel file for future steps**"
   ]
  },
  {
   "cell_type": "code",
   "execution_count": 37,
   "id": "1762f33d",
   "metadata": {},
   "outputs": [],
   "source": [
    "df_flights.to_excel('data/flights_cleaned.xlsx', index = False)"
   ]
  },
  {
   "cell_type": "markdown",
   "id": "569ce69c",
   "metadata": {},
   "source": [
    "**Final Thoughts**  I'm pretty sure I could have deleted more columns than I did, but I'm leaning towards the more cautious side of things rather than deleting a bunch of data. This project is dealing with a lot of text, the only numbers that will most likely be used is number of injuries (Fatal/Serious/Minor Injury count columns), which can be used later to determine which types of accidents cause the most harm to passengers/crew."
   ]
  }
 ],
 "metadata": {
  "kernelspec": {
   "display_name": "Python 3 (ipykernel)",
   "language": "python",
   "name": "python3"
  },
  "language_info": {
   "codemirror_mode": {
    "name": "ipython",
    "version": 3
   },
   "file_extension": ".py",
   "mimetype": "text/x-python",
   "name": "python",
   "nbconvert_exporter": "python",
   "pygments_lexer": "ipython3",
   "version": "3.9.7"
  }
 },
 "nbformat": 4,
 "nbformat_minor": 5
}
